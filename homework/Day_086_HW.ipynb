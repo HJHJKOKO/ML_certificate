{
 "cells": [
  {
   "cell_type": "markdown",
   "metadata": {},
   "source": [
    "## Work\n",
    "1. 試比較 save_best_only 與否的差異\n",
    "2. 請僅存入將 save_weights_only 設定為 True, 並嘗試 reset ipynb 並將模型與權重重新建回並預測 x_test"
   ]
  },
  {
   "cell_type": "code",
   "execution_count": 1,
   "metadata": {},
   "outputs": [
    {
     "name": "stderr",
     "output_type": "stream",
     "text": [
      "Using TensorFlow backend.\n",
      "C:\\Users\\MCUT\\anaconda3\\envs\\class\\lib\\site-packages\\tensorflow\\python\\framework\\dtypes.py:526: FutureWarning: Passing (type, 1) or '1type' as a synonym of type is deprecated; in a future version of numpy, it will be understood as (type, (1,)) / '(1,)type'.\n",
      "  _np_qint8 = np.dtype([(\"qint8\", np.int8, 1)])\n",
      "C:\\Users\\MCUT\\anaconda3\\envs\\class\\lib\\site-packages\\tensorflow\\python\\framework\\dtypes.py:527: FutureWarning: Passing (type, 1) or '1type' as a synonym of type is deprecated; in a future version of numpy, it will be understood as (type, (1,)) / '(1,)type'.\n",
      "  _np_quint8 = np.dtype([(\"quint8\", np.uint8, 1)])\n",
      "C:\\Users\\MCUT\\anaconda3\\envs\\class\\lib\\site-packages\\tensorflow\\python\\framework\\dtypes.py:528: FutureWarning: Passing (type, 1) or '1type' as a synonym of type is deprecated; in a future version of numpy, it will be understood as (type, (1,)) / '(1,)type'.\n",
      "  _np_qint16 = np.dtype([(\"qint16\", np.int16, 1)])\n",
      "C:\\Users\\MCUT\\anaconda3\\envs\\class\\lib\\site-packages\\tensorflow\\python\\framework\\dtypes.py:529: FutureWarning: Passing (type, 1) or '1type' as a synonym of type is deprecated; in a future version of numpy, it will be understood as (type, (1,)) / '(1,)type'.\n",
      "  _np_quint16 = np.dtype([(\"quint16\", np.uint16, 1)])\n",
      "C:\\Users\\MCUT\\anaconda3\\envs\\class\\lib\\site-packages\\tensorflow\\python\\framework\\dtypes.py:530: FutureWarning: Passing (type, 1) or '1type' as a synonym of type is deprecated; in a future version of numpy, it will be understood as (type, (1,)) / '(1,)type'.\n",
      "  _np_qint32 = np.dtype([(\"qint32\", np.int32, 1)])\n",
      "C:\\Users\\MCUT\\anaconda3\\envs\\class\\lib\\site-packages\\tensorflow\\python\\framework\\dtypes.py:535: FutureWarning: Passing (type, 1) or '1type' as a synonym of type is deprecated; in a future version of numpy, it will be understood as (type, (1,)) / '(1,)type'.\n",
      "  np_resource = np.dtype([(\"resource\", np.ubyte, 1)])\n"
     ]
    }
   ],
   "source": [
    "import os\n",
    "import keras\n",
    "\n",
    "# Disable GPU\n",
    "os.environ[\"CUDA_VISIBLE_DEVICES\"] = \"0\""
   ]
  },
  {
   "cell_type": "code",
   "execution_count": 2,
   "metadata": {},
   "outputs": [],
   "source": [
    "train, test = keras.datasets.cifar10.load_data()"
   ]
  },
  {
   "cell_type": "code",
   "execution_count": 3,
   "metadata": {},
   "outputs": [],
   "source": [
    "## 資料前處理\n",
    "def preproc_x(x, flatten=True):\n",
    "    x = x / 255.\n",
    "    if flatten:\n",
    "        x = x.reshape((len(x), -1))\n",
    "    return x\n",
    "\n",
    "def preproc_y(y, num_classes=10):\n",
    "    if y.shape[-1] == 1:\n",
    "        y = keras.utils.to_categorical(y, num_classes)\n",
    "    return y    "
   ]
  },
  {
   "cell_type": "code",
   "execution_count": 4,
   "metadata": {},
   "outputs": [],
   "source": [
    "x_train, y_train = train\n",
    "x_test, y_test = test\n",
    "\n",
    "# Preproc the inputs\n",
    "x_train = preproc_x(x_train)\n",
    "x_test = preproc_x(x_test)\n",
    "\n",
    "# Preprc the outputs\n",
    "y_train = preproc_y(y_train)\n",
    "y_test = preproc_y(y_test)"
   ]
  },
  {
   "cell_type": "code",
   "execution_count": 5,
   "metadata": {},
   "outputs": [],
   "source": [
    "from keras.layers import BatchNormalization\n",
    "\n",
    "def build_mlp(input_shape, output_units=10, num_neurons=[512, 256, 128]):\n",
    "    \"\"\"Code Here\n",
    "    建立你的神經網路\n",
    "    \"\"\"\n",
    "    input_layer = keras.layers.Input(input_shape)\n",
    "    \n",
    "    for i, n_units in enumerate(num_neurons):\n",
    "        if i == 0:\n",
    "            x = keras.layers.Dense(units=n_units, \n",
    "                                   activation=\"relu\", \n",
    "                                   name=\"hidden_layer\"+str(i+1))(input_layer)\n",
    "            x = BatchNormalization()(x)\n",
    "        else:\n",
    "            x = keras.layers.Dense(units=n_units, \n",
    "                                   activation=\"relu\", \n",
    "                                   name=\"hidden_layer\"+str(i+1))(x)\n",
    "            x = BatchNormalization()(x)\n",
    "    \n",
    "    out = keras.layers.Dense(units=output_units, activation=\"softmax\", name=\"output\")(x)\n",
    "    \n",
    "    model = keras.models.Model(inputs=[input_layer], outputs=[out])\n",
    "    return model"
   ]
  },
  {
   "cell_type": "code",
   "execution_count": 9,
   "metadata": {},
   "outputs": [],
   "source": [
    "\"\"\"Code Here\n",
    "設定超參數\n",
    "\"\"\"\n",
    "LEARNING_RATE = 1e-4\n",
    "EPOCHS = 80\n",
    "BATCH_SIZE = 1024"
   ]
  },
  {
   "cell_type": "code",
   "execution_count": 15,
   "metadata": {},
   "outputs": [
    {
     "name": "stdout",
     "output_type": "stream",
     "text": [
      "_________________________________________________________________\n",
      "Layer (type)                 Output Shape              Param #   \n",
      "=================================================================\n",
      "input_1 (InputLayer)         (None, 3072)              0         \n",
      "_________________________________________________________________\n",
      "hidden_layer1 (Dense)        (None, 512)               1573376   \n",
      "_________________________________________________________________\n",
      "batch_normalization_1 (Batch (None, 512)               2048      \n",
      "_________________________________________________________________\n",
      "hidden_layer2 (Dense)        (None, 256)               131328    \n",
      "_________________________________________________________________\n",
      "batch_normalization_2 (Batch (None, 256)               1024      \n",
      "_________________________________________________________________\n",
      "hidden_layer3 (Dense)        (None, 128)               32896     \n",
      "_________________________________________________________________\n",
      "batch_normalization_3 (Batch (None, 128)               512       \n",
      "_________________________________________________________________\n",
      "output (Dense)               (None, 10)                1290      \n",
      "=================================================================\n",
      "Total params: 1,742,474\n",
      "Trainable params: 1,740,682\n",
      "Non-trainable params: 1,792\n",
      "_________________________________________________________________\n",
      "Train on 50000 samples, validate on 10000 samples\n",
      "Epoch 1/80\n",
      "50000/50000 [==============================] - 2s 41us/step - loss: 2.6517 - acc: 0.1706 - val_loss: 2.4253 - val_acc: 0.2336\n",
      "Epoch 2/80\n",
      "50000/50000 [==============================] - 1s 29us/step - loss: 2.2455 - acc: 0.2559 - val_loss: 2.2188 - val_acc: 0.2689\n",
      "Epoch 3/80\n",
      "50000/50000 [==============================] - 1s 29us/step - loss: 2.0821 - acc: 0.3004 - val_loss: 2.1029 - val_acc: 0.2969\n",
      "Epoch 4/80\n",
      "50000/50000 [==============================] - 1s 29us/step - loss: 1.9894 - acc: 0.3234 - val_loss: 2.0179 - val_acc: 0.3170\n",
      "Epoch 5/80\n",
      "50000/50000 [==============================] - 1s 30us/step - loss: 1.9240 - acc: 0.3424 - val_loss: 1.9644 - val_acc: 0.3337\n",
      "Epoch 6/80\n",
      "50000/50000 [==============================] - 1s 29us/step - loss: 1.8750 - acc: 0.3581 - val_loss: 1.9221 - val_acc: 0.3441\n",
      "Epoch 7/80\n",
      "50000/50000 [==============================] - 1s 29us/step - loss: 1.8348 - acc: 0.3674 - val_loss: 1.8870 - val_acc: 0.3531\n",
      "Epoch 8/80\n",
      "50000/50000 [==============================] - 1s 29us/step - loss: 1.8019 - acc: 0.3800 - val_loss: 1.8623 - val_acc: 0.3623\n",
      "Epoch 9/80\n",
      "50000/50000 [==============================] - 1s 29us/step - loss: 1.7734 - acc: 0.3876 - val_loss: 1.8368 - val_acc: 0.3669\n",
      "Epoch 10/80\n",
      "50000/50000 [==============================] - 1s 30us/step - loss: 1.7485 - acc: 0.3951 - val_loss: 1.8184 - val_acc: 0.3736\n",
      "Epoch 11/80\n",
      "50000/50000 [==============================] - 1s 29us/step - loss: 1.7257 - acc: 0.4040 - val_loss: 1.7996 - val_acc: 0.3790\n",
      "Epoch 12/80\n",
      "50000/50000 [==============================] - 1s 30us/step - loss: 1.7060 - acc: 0.4094 - val_loss: 1.7841 - val_acc: 0.3854\n",
      "Epoch 13/80\n",
      "50000/50000 [==============================] - 1s 29us/step - loss: 1.6871 - acc: 0.4172 - val_loss: 1.7681 - val_acc: 0.3895\n",
      "Epoch 14/80\n",
      "50000/50000 [==============================] - 1s 27us/step - loss: 1.6719 - acc: 0.4200 - val_loss: 1.7558 - val_acc: 0.3944\n",
      "Epoch 15/80\n",
      "50000/50000 [==============================] - 1s 28us/step - loss: 1.6554 - acc: 0.4260 - val_loss: 1.7430 - val_acc: 0.3966\n",
      "Epoch 16/80\n",
      "50000/50000 [==============================] - 1s 28us/step - loss: 1.6410 - acc: 0.4319 - val_loss: 1.7349 - val_acc: 0.4017\n",
      "Epoch 17/80\n",
      "50000/50000 [==============================] - 1s 29us/step - loss: 1.6268 - acc: 0.4356 - val_loss: 1.7235 - val_acc: 0.4041\n",
      "Epoch 18/80\n",
      "50000/50000 [==============================] - 1s 28us/step - loss: 1.6140 - acc: 0.4405 - val_loss: 1.7152 - val_acc: 0.4058\n",
      "Epoch 19/80\n",
      "50000/50000 [==============================] - 1s 28us/step - loss: 1.6020 - acc: 0.4438 - val_loss: 1.7064 - val_acc: 0.4064\n",
      "Epoch 20/80\n",
      "50000/50000 [==============================] - 1s 28us/step - loss: 1.5897 - acc: 0.4479 - val_loss: 1.6978 - val_acc: 0.4093\n",
      "Epoch 21/80\n",
      "50000/50000 [==============================] - 1s 28us/step - loss: 1.5786 - acc: 0.4529 - val_loss: 1.6901 - val_acc: 0.4105\n",
      "Epoch 22/80\n",
      "50000/50000 [==============================] - 1s 28us/step - loss: 1.5691 - acc: 0.4575 - val_loss: 1.6858 - val_acc: 0.4126\n",
      "Epoch 23/80\n",
      "50000/50000 [==============================] - 1s 28us/step - loss: 1.5590 - acc: 0.4600 - val_loss: 1.6762 - val_acc: 0.4156\n",
      "Epoch 24/80\n",
      "50000/50000 [==============================] - 1s 28us/step - loss: 1.5481 - acc: 0.4637 - val_loss: 1.6706 - val_acc: 0.4188\n",
      "Epoch 25/80\n",
      "50000/50000 [==============================] - 1s 28us/step - loss: 1.5402 - acc: 0.4655 - val_loss: 1.6652 - val_acc: 0.4198\n",
      "Epoch 26/80\n",
      "50000/50000 [==============================] - 1s 28us/step - loss: 1.5312 - acc: 0.4685 - val_loss: 1.6602 - val_acc: 0.4228\n",
      "Epoch 27/80\n",
      "50000/50000 [==============================] - 1s 27us/step - loss: 1.5224 - acc: 0.4722 - val_loss: 1.6551 - val_acc: 0.4218\n",
      "Epoch 28/80\n",
      "50000/50000 [==============================] - 1s 28us/step - loss: 1.5135 - acc: 0.4754 - val_loss: 1.6495 - val_acc: 0.4251\n",
      "Epoch 29/80\n",
      "50000/50000 [==============================] - 1s 28us/step - loss: 1.5059 - acc: 0.4780 - val_loss: 1.6454 - val_acc: 0.4274\n",
      "Epoch 30/80\n",
      "50000/50000 [==============================] - 1s 28us/step - loss: 1.4979 - acc: 0.4807 - val_loss: 1.6400 - val_acc: 0.4260\n",
      "Epoch 31/80\n",
      "50000/50000 [==============================] - 1s 28us/step - loss: 1.4895 - acc: 0.4845 - val_loss: 1.6356 - val_acc: 0.4301\n",
      "Epoch 32/80\n",
      "50000/50000 [==============================] - 1s 28us/step - loss: 1.4826 - acc: 0.4870 - val_loss: 1.6327 - val_acc: 0.4320\n",
      "Epoch 33/80\n",
      "50000/50000 [==============================] - 1s 29us/step - loss: 1.4755 - acc: 0.4887 - val_loss: 1.6275 - val_acc: 0.4308\n",
      "Epoch 34/80\n",
      "50000/50000 [==============================] - 1s 27us/step - loss: 1.4679 - acc: 0.4907 - val_loss: 1.6234 - val_acc: 0.4318\n",
      "Epoch 35/80\n",
      "50000/50000 [==============================] - 1s 28us/step - loss: 1.4618 - acc: 0.4936 - val_loss: 1.6199 - val_acc: 0.4331\n",
      "Epoch 36/80\n",
      "50000/50000 [==============================] - 1s 28us/step - loss: 1.4546 - acc: 0.4958 - val_loss: 1.6187 - val_acc: 0.4328\n",
      "Epoch 37/80\n",
      "50000/50000 [==============================] - 1s 27us/step - loss: 1.4479 - acc: 0.4993 - val_loss: 1.6127 - val_acc: 0.4372\n",
      "Epoch 38/80\n",
      "50000/50000 [==============================] - 1s 28us/step - loss: 1.4419 - acc: 0.5009 - val_loss: 1.6108 - val_acc: 0.4360\n",
      "Epoch 39/80\n",
      "50000/50000 [==============================] - 1s 28us/step - loss: 1.4349 - acc: 0.5036 - val_loss: 1.6076 - val_acc: 0.4371\n",
      "Epoch 40/80\n",
      "50000/50000 [==============================] - 1s 28us/step - loss: 1.4287 - acc: 0.5049 - val_loss: 1.6037 - val_acc: 0.4382\n",
      "Epoch 41/80\n",
      "50000/50000 [==============================] - 1s 29us/step - loss: 1.4226 - acc: 0.5083 - val_loss: 1.6018 - val_acc: 0.4392\n",
      "Epoch 42/80\n",
      "50000/50000 [==============================] - 1s 29us/step - loss: 1.4165 - acc: 0.5112 - val_loss: 1.5979 - val_acc: 0.4406\n",
      "Epoch 43/80\n",
      "50000/50000 [==============================] - 1s 28us/step - loss: 1.4108 - acc: 0.5128 - val_loss: 1.5961 - val_acc: 0.4428\n",
      "Epoch 44/80\n",
      "50000/50000 [==============================] - 1s 30us/step - loss: 1.4052 - acc: 0.5134 - val_loss: 1.5930 - val_acc: 0.4417\n",
      "Epoch 45/80\n",
      "50000/50000 [==============================] - 1s 29us/step - loss: 1.3994 - acc: 0.5175 - val_loss: 1.5897 - val_acc: 0.4416\n",
      "Epoch 46/80\n",
      "50000/50000 [==============================] - 1s 29us/step - loss: 1.3934 - acc: 0.5188 - val_loss: 1.5893 - val_acc: 0.4429\n",
      "Epoch 47/80\n",
      "50000/50000 [==============================] - 1s 28us/step - loss: 1.3888 - acc: 0.5204 - val_loss: 1.5848 - val_acc: 0.4432\n",
      "Epoch 48/80\n",
      "50000/50000 [==============================] - 1s 28us/step - loss: 1.3825 - acc: 0.5230 - val_loss: 1.5835 - val_acc: 0.4447\n",
      "Epoch 49/80\n",
      "50000/50000 [==============================] - 1s 29us/step - loss: 1.3773 - acc: 0.5254 - val_loss: 1.5794 - val_acc: 0.4461\n"
     ]
    },
    {
     "name": "stdout",
     "output_type": "stream",
     "text": [
      "Epoch 50/80\n",
      "50000/50000 [==============================] - 1s 28us/step - loss: 1.3718 - acc: 0.5272 - val_loss: 1.5779 - val_acc: 0.4464\n",
      "Epoch 51/80\n",
      "50000/50000 [==============================] - 1s 29us/step - loss: 1.3666 - acc: 0.5288 - val_loss: 1.5762 - val_acc: 0.4468\n",
      "Epoch 52/80\n",
      "50000/50000 [==============================] - 1s 28us/step - loss: 1.3617 - acc: 0.5325 - val_loss: 1.5745 - val_acc: 0.4484\n",
      "Epoch 53/80\n",
      "50000/50000 [==============================] - 1s 28us/step - loss: 1.3564 - acc: 0.5333 - val_loss: 1.5726 - val_acc: 0.4476\n",
      "Epoch 54/80\n",
      "50000/50000 [==============================] - 1s 29us/step - loss: 1.3521 - acc: 0.5351 - val_loss: 1.5697 - val_acc: 0.4509\n",
      "Epoch 55/80\n",
      "50000/50000 [==============================] - 1s 28us/step - loss: 1.3472 - acc: 0.5380 - val_loss: 1.5675 - val_acc: 0.4497\n",
      "Epoch 56/80\n",
      "50000/50000 [==============================] - 1s 29us/step - loss: 1.3422 - acc: 0.5390 - val_loss: 1.5663 - val_acc: 0.4516\n",
      "Epoch 57/80\n",
      "50000/50000 [==============================] - 1s 28us/step - loss: 1.3371 - acc: 0.5414 - val_loss: 1.5643 - val_acc: 0.4513\n",
      "Epoch 58/80\n",
      "50000/50000 [==============================] - 1s 29us/step - loss: 1.3322 - acc: 0.5424 - val_loss: 1.5614 - val_acc: 0.4528\n",
      "Epoch 59/80\n",
      "50000/50000 [==============================] - 1s 28us/step - loss: 1.3284 - acc: 0.5443 - val_loss: 1.5605 - val_acc: 0.4541\n",
      "Epoch 60/80\n",
      "50000/50000 [==============================] - 1s 29us/step - loss: 1.3226 - acc: 0.5474 - val_loss: 1.5594 - val_acc: 0.4546\n",
      "Epoch 61/80\n",
      "50000/50000 [==============================] - 1s 28us/step - loss: 1.3185 - acc: 0.5493 - val_loss: 1.5570 - val_acc: 0.4539\n",
      "Epoch 62/80\n",
      "50000/50000 [==============================] - 1s 29us/step - loss: 1.3138 - acc: 0.5495 - val_loss: 1.5552 - val_acc: 0.4558\n",
      "Epoch 63/80\n",
      "50000/50000 [==============================] - 1s 28us/step - loss: 1.3095 - acc: 0.5496 - val_loss: 1.5539 - val_acc: 0.4558\n",
      "Epoch 64/80\n",
      "50000/50000 [==============================] - 1s 28us/step - loss: 1.3048 - acc: 0.5527 - val_loss: 1.5522 - val_acc: 0.4566\n",
      "Epoch 65/80\n",
      "50000/50000 [==============================] - 1s 29us/step - loss: 1.2999 - acc: 0.5541 - val_loss: 1.5493 - val_acc: 0.4565\n",
      "Epoch 66/80\n",
      "50000/50000 [==============================] - 1s 28us/step - loss: 1.2973 - acc: 0.5561 - val_loss: 1.5494 - val_acc: 0.4577\n",
      "Epoch 67/80\n",
      "50000/50000 [==============================] - 1s 28us/step - loss: 1.2920 - acc: 0.5574 - val_loss: 1.5477 - val_acc: 0.4573\n",
      "Epoch 68/80\n",
      "50000/50000 [==============================] - 1s 28us/step - loss: 1.2884 - acc: 0.5592 - val_loss: 1.5465 - val_acc: 0.4605\n",
      "Epoch 69/80\n",
      "50000/50000 [==============================] - 1s 29us/step - loss: 1.2837 - acc: 0.5611 - val_loss: 1.5435 - val_acc: 0.4605\n",
      "Epoch 70/80\n",
      "50000/50000 [==============================] - 1s 28us/step - loss: 1.2791 - acc: 0.5623 - val_loss: 1.5428 - val_acc: 0.4608\n",
      "Epoch 71/80\n",
      "50000/50000 [==============================] - 1s 29us/step - loss: 1.2754 - acc: 0.5643 - val_loss: 1.5418 - val_acc: 0.4599\n",
      "Epoch 72/80\n",
      "50000/50000 [==============================] - 1s 29us/step - loss: 1.2708 - acc: 0.5644 - val_loss: 1.5404 - val_acc: 0.4612\n",
      "Epoch 73/80\n",
      "50000/50000 [==============================] - 1s 29us/step - loss: 1.2662 - acc: 0.5668 - val_loss: 1.5395 - val_acc: 0.4619\n",
      "Epoch 74/80\n",
      "50000/50000 [==============================] - 1s 29us/step - loss: 1.2622 - acc: 0.5689 - val_loss: 1.5376 - val_acc: 0.4604\n",
      "Epoch 75/80\n",
      "50000/50000 [==============================] - 1s 28us/step - loss: 1.2589 - acc: 0.5704 - val_loss: 1.5374 - val_acc: 0.4607\n",
      "Epoch 76/80\n",
      "50000/50000 [==============================] - 1s 29us/step - loss: 1.2545 - acc: 0.5714 - val_loss: 1.5360 - val_acc: 0.4621\n",
      "Epoch 77/80\n",
      "50000/50000 [==============================] - 1s 28us/step - loss: 1.2503 - acc: 0.5742 - val_loss: 1.5342 - val_acc: 0.4651\n",
      "Epoch 78/80\n",
      "50000/50000 [==============================] - 1s 29us/step - loss: 1.2469 - acc: 0.5739 - val_loss: 1.5323 - val_acc: 0.4648\n",
      "Epoch 79/80\n",
      "50000/50000 [==============================] - 1s 28us/step - loss: 1.2430 - acc: 0.5757 - val_loss: 1.5335 - val_acc: 0.4623\n",
      "Epoch 80/80\n",
      "50000/50000 [==============================] - 1s 28us/step - loss: 1.2388 - acc: 0.5782 - val_loss: 1.5304 - val_acc: 0.4624\n"
     ]
    }
   ],
   "source": [
    "# 載入 Callbacks\n",
    "\"\"\"Code Here\n",
    "設定 callbacks: model checkpoint\n",
    "\"\"\"\n",
    "from keras.callbacks import ModelCheckpoint\n",
    "\n",
    "model_ckpt = ModelCheckpoint(filepath=\"C:/Users/MCUT/Desktop/homework/tmp.h5\", \n",
    "                             monitor=\"val_loss\", \n",
    "                             save_best_only=False,\n",
    "                             save_weights_only=True)\n",
    "\n",
    "results = {}\n",
    "\"\"\"Code Here\n",
    "撰寫你的訓練流程並將結果用 dictionary 紀錄\n",
    "\"\"\"\n",
    "keras.backend.clear_session() # 把舊的 Graph 清掉\n",
    "\n",
    "model = build_mlp(input_shape=x_train.shape[1:])\n",
    "model.summary()\n",
    "optimizer = keras.optimizers.SGD(lr=LEARNING_RATE, nesterov=True, momentum=MOMENTUM)\n",
    "model.compile(loss=\"categorical_crossentropy\", metrics=[\"accuracy\"], optimizer=optimizer)\n",
    "\n",
    "model.fit(x_train, y_train, \n",
    "          epochs=EPOCHS, \n",
    "          batch_size=BATCH_SIZE, \n",
    "          validation_data=(x_test, y_test), \n",
    "          shuffle=True,\n",
    "          callbacks=[model_ckpt]\n",
    "         )\n",
    "\n",
    "# Collect results\n",
    "train_loss = model.history.history[\"loss\"]\n",
    "valid_loss = model.history.history[\"val_loss\"]\n",
    "train_acc = model.history.history[\"acc\"]\n",
    "valid_acc = model.history.history[\"val_acc\"]\n",
    "\n"
   ]
  },
  {
   "cell_type": "code",
   "execution_count": 17,
   "metadata": {},
   "outputs": [
    {
     "name": "stdout",
     "output_type": "stream",
     "text": [
      "10000/10000 [==============================] - 0s 49us/step\n"
     ]
    }
   ],
   "source": [
    "# Load back\n",
    "model.load_weights(\"C:/Users/MCUT/Desktop/homework/tmp.h5\")\n",
    "loss_loadback, acc_loadback = model.evaluate(x_test, y_test)"
   ]
  },
  {
   "cell_type": "code",
   "execution_count": 18,
   "metadata": {
    "scrolled": true
   },
   "outputs": [
    {
     "data": {
      "image/png": "[encoded data removed]",
      "text/plain": [
       "<Figure size 432x288 with 1 Axes>"
      ]
     },
     "metadata": {
      "needs_background": "light"
     },
     "output_type": "display_data"
    },
    {
     "data": {
      "image/png": "[encoded data removed]",
      "text/plain": [
       "<Figure size 432x288 with 1 Axes>"
      ]
     },
     "metadata": {
      "needs_background": "light"
     },
     "output_type": "display_data"
    }
   ],
   "source": [
    "import matplotlib.pyplot as plt\n",
    "%matplotlib inline\n",
    "\"\"\"Code Here\n",
    "將結果繪出\n",
    "\"\"\"\n",
    "\n",
    "plt.plot(range(len(train_loss)), train_loss, label=\"train loss\")\n",
    "plt.plot(range(len(valid_loss)), valid_loss, label=\"valid loss\")\n",
    "plt.hlines(y=loss_loadback, xmin=0, xmax=len(train_loss), colors='r', linestyles='--')\n",
    "plt.legend()\n",
    "plt.title(\"Loss\")\n",
    "plt.show()\n",
    "\n",
    "plt.plot(range(len(train_acc)), train_acc, label=\"train accuracy\")\n",
    "plt.plot(range(len(valid_acc)), valid_acc, label=\"valid accuracy\")\n",
    "plt.hlines(y=acc_loadback, xmin=0, xmax=len(train_loss), colors='r', linestyles='--')\n",
    "plt.legend()\n",
    "plt.title(\"Accuracy\")\n",
    "plt.show()"
   ]
  },
  {
   "cell_type": "code",
   "execution_count": null,
   "metadata": {},
   "outputs": [],
   "source": []
  }
 ],
 "metadata": {
  "kernelspec": {
   "display_name": "Python 3",
   "language": "python",
   "name": "python3"
  },
  "language_info": {
   "codemirror_mode": {
    "name": "ipython",
    "version": 3
   },
   "file_extension": ".py",
   "mimetype": "text/x-python",
   "name": "python",
   "nbconvert_exporter": "python",
   "pygments_lexer": "ipython3",
   "version": "3.6.10"
  }
 },
 "nbformat": 4,
 "nbformat_minor": 2
}
