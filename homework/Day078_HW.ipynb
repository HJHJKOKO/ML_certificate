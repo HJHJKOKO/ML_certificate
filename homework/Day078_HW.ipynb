{
 "cells": [
  {
   "cell_type": "markdown",
   "metadata": {},
   "source": [
    "## Work\n",
    "1. 請嘗試將 preproc_x 替換成以每筆資料的 min/max 進行標準化至 -1 ~ 1 間，再進行訓練\n",
    "2. 請嘗試將 mlp 疊更深 (e.g 5~10 層)，進行訓練後觀察 learning curve 的走勢\n",
    "3. (optional) 請改用 GPU 進行訓練 (如果你有 GPU 的話)，比較使用 CPU 與 GPU 的訓練速度"
   ]
  },
  {
   "cell_type": "code",
   "execution_count": 1,
   "metadata": {},
   "outputs": [
    {
     "name": "stdout",
     "output_type": "stream",
     "text": [
      "Thu Jun 17 16:35:55 2021       \n",
      "+-----------------------------------------------------------------------------+\n",
      "| NVIDIA-SMI 457.30       Driver Version: 457.30       CUDA Version: 11.1     |\n",
      "|-------------------------------+----------------------+----------------------+\n",
      "| GPU  Name            TCC/WDDM | Bus-Id        Disp.A | Volatile Uncorr. ECC |\n",
      "| Fan  Temp  Perf  Pwr:Usage/Cap|         Memory-Usage | GPU-Util  Compute M. |\n",
      "|                               |                      |               MIG M. |\n",
      "|===============================+======================+======================|\n",
      "|   0  GeForce GTX 106... WDDM  | 00000000:01:00.0  On |                  N/A |\n",
      "|  0%   41C    P8     7W / 120W |    601MiB /  6144MiB |      0%      Default |\n",
      "|                               |                      |                  N/A |\n",
      "+-------------------------------+----------------------+----------------------+\n",
      "                                                                               \n",
      "+-----------------------------------------------------------------------------+\n",
      "| Processes:                                                                  |\n",
      "|  GPU   GI   CI        PID   Type   Process name                  GPU Memory |\n",
      "|        ID   ID                                                   Usage      |\n",
      "|=============================================================================|\n",
      "|    0   N/A  N/A      1524    C+G   Insufficient Permissions        N/A      |\n",
      "|    0   N/A  N/A      1884    C+G   ...t\\Teams\\current\\Teams.exe    N/A      |\n",
      "|    0   N/A  N/A      3224    C+G   ...kyb3d8bbwe\\HxAccounts.exe    N/A      |\n",
      "|    0   N/A  N/A      3780    C+G   ...5n1h2txyewy\\SearchApp.exe    N/A      |\n",
      "|    0   N/A  N/A      4452    C+G   ...y\\ShellExperienceHost.exe    N/A      |\n",
      "|    0   N/A  N/A      7244    C+G   ...t\\Teams\\current\\Teams.exe    N/A      |\n",
      "|    0   N/A  N/A      9624    C+G   C:\\Windows\\explorer.exe         N/A      |\n",
      "|    0   N/A  N/A     11168    C+G   ...artMenuExperienceHost.exe    N/A      |\n",
      "|    0   N/A  N/A     12144    C+G   ...nputApp\\TextInputHost.exe    N/A      |\n",
      "|    0   N/A  N/A     13876    C+G   ...5n1h2txyewy\\SearchApp.exe    N/A      |\n",
      "|    0   N/A  N/A     20212    C+G   ...ekyb3d8bbwe\\HxOutlook.exe    N/A      |\n",
      "|    0   N/A  N/A     20444    C+G   ...perience\\NVIDIA Share.exe    N/A      |\n",
      "|    0   N/A  N/A     21192    C+G   ...LINE\\bin\\current\\LINE.exe    N/A      |\n",
      "|    0   N/A  N/A     21796    C+G   ...ekyb3d8bbwe\\YourPhone.exe    N/A      |\n",
      "|    0   N/A  N/A     24192    C+G   ...wekyb3d8bbwe\\Video.UI.exe    N/A      |\n",
      "|    0   N/A  N/A     24848    C+G   ...me\\Application\\chrome.exe    N/A      |\n",
      "|    0   N/A  N/A     25628    C+G   ...bbwe\\Microsoft.Photos.exe    N/A      |\n",
      "|    0   N/A  N/A     27448    C+G   ...ll\\1.0.0.110\\LineCall.exe    N/A      |\n",
      "|    0   N/A  N/A     27508    C+G   ...lPanel\\SystemSettings.exe    N/A      |\n",
      "|    0   N/A  N/A     28024    C+G   ...ge\\Application\\msedge.exe    N/A      |\n",
      "+-----------------------------------------------------------------------------+\n"
     ]
    }
   ],
   "source": [
    "## \n",
    "\"\"\"\n",
    "Your code here (optional)\n",
    "確認硬體資源\n",
    "\"\"\"\n",
    "!nvidia-smi"
   ]
  },
  {
   "cell_type": "code",
   "execution_count": 2,
   "metadata": {},
   "outputs": [
    {
     "name": "stderr",
     "output_type": "stream",
     "text": [
      "Using TensorFlow backend.\n",
      "C:\\Users\\MCUT\\anaconda3\\envs\\class\\lib\\site-packages\\tensorflow\\python\\framework\\dtypes.py:526: FutureWarning: Passing (type, 1) or '1type' as a synonym of type is deprecated; in a future version of numpy, it will be understood as (type, (1,)) / '(1,)type'.\n",
      "  _np_qint8 = np.dtype([(\"qint8\", np.int8, 1)])\n",
      "C:\\Users\\MCUT\\anaconda3\\envs\\class\\lib\\site-packages\\tensorflow\\python\\framework\\dtypes.py:527: FutureWarning: Passing (type, 1) or '1type' as a synonym of type is deprecated; in a future version of numpy, it will be understood as (type, (1,)) / '(1,)type'.\n",
      "  _np_quint8 = np.dtype([(\"quint8\", np.uint8, 1)])\n",
      "C:\\Users\\MCUT\\anaconda3\\envs\\class\\lib\\site-packages\\tensorflow\\python\\framework\\dtypes.py:528: FutureWarning: Passing (type, 1) or '1type' as a synonym of type is deprecated; in a future version of numpy, it will be understood as (type, (1,)) / '(1,)type'.\n",
      "  _np_qint16 = np.dtype([(\"qint16\", np.int16, 1)])\n",
      "C:\\Users\\MCUT\\anaconda3\\envs\\class\\lib\\site-packages\\tensorflow\\python\\framework\\dtypes.py:529: FutureWarning: Passing (type, 1) or '1type' as a synonym of type is deprecated; in a future version of numpy, it will be understood as (type, (1,)) / '(1,)type'.\n",
      "  _np_quint16 = np.dtype([(\"quint16\", np.uint16, 1)])\n",
      "C:\\Users\\MCUT\\anaconda3\\envs\\class\\lib\\site-packages\\tensorflow\\python\\framework\\dtypes.py:530: FutureWarning: Passing (type, 1) or '1type' as a synonym of type is deprecated; in a future version of numpy, it will be understood as (type, (1,)) / '(1,)type'.\n",
      "  _np_qint32 = np.dtype([(\"qint32\", np.int32, 1)])\n",
      "C:\\Users\\MCUT\\anaconda3\\envs\\class\\lib\\site-packages\\tensorflow\\python\\framework\\dtypes.py:535: FutureWarning: Passing (type, 1) or '1type' as a synonym of type is deprecated; in a future version of numpy, it will be understood as (type, (1,)) / '(1,)type'.\n",
      "  np_resource = np.dtype([(\"resource\", np.ubyte, 1)])\n"
     ]
    }
   ],
   "source": [
    "import os\n",
    "import keras\n",
    "\n",
    "# 請嘗試設定 GPU：os.environ\n",
    "os.environ[\"CUDA_VISIBLE_DEVICES\"] = \"0\""
   ]
  },
  {
   "cell_type": "code",
   "execution_count": 3,
   "metadata": {},
   "outputs": [],
   "source": [
    "train, test = keras.datasets.cifar10.load_data()"
   ]
  },
  {
   "cell_type": "code",
   "execution_count": 16,
   "metadata": {},
   "outputs": [],
   "source": [
    "## 資料前處理\n",
    "\"\"\"\n",
    "Your code here\n",
    "\"\"\"\n",
    "def preproc_x(x, flatten=True):\n",
    "    x = x / 255.\n",
    "    if flatten:\n",
    "        x = x.reshape((len(x), -1))\n",
    "    return x\n",
    "    \n",
    "def preproc_y(y, num_classes=10):\n",
    "    if y.shape[-1] == 1:\n",
    "        y = keras.utils.to_categorical(y, num_classes)\n",
    "    return y"
   ]
  },
  {
   "cell_type": "code",
   "execution_count": 17,
   "metadata": {},
   "outputs": [],
   "source": [
    "x_train, y_train = train\n",
    "x_test, y_test = test\n",
    "\n",
    "# Preproc the inputs\n",
    "x_train = preproc_x(x_train)\n",
    "x_test = preproc_x(x_test)\n",
    "\n",
    "# Preprc the outputs\n",
    "y_train = preproc_y(y_train)\n",
    "y_test = preproc_y(y_test)"
   ]
  },
  {
   "cell_type": "code",
   "execution_count": 18,
   "metadata": {},
   "outputs": [
    {
     "name": "stdout",
     "output_type": "stream",
     "text": [
      "WARNING:tensorflow:From C:\\Users\\MCUT\\anaconda3\\envs\\class\\lib\\site-packages\\tensorflow\\python\\framework\\op_def_library.py:263: colocate_with (from tensorflow.python.framework.ops) is deprecated and will be removed in a future version.\n",
      "Instructions for updating:\n",
      "Colocations handled automatically by placer.\n",
      "_________________________________________________________________\n",
      "Layer (type)                 Output Shape              Param #   \n",
      "=================================================================\n",
      "input_1 (InputLayer)         (None, 3072)              0         \n",
      "_________________________________________________________________\n",
      "hidden_layer1 (Dense)        (None, 512)               1573376   \n",
      "_________________________________________________________________\n",
      "hidden_layer2 (Dense)        (None, 256)               131328    \n",
      "_________________________________________________________________\n",
      "hidden_layer3 (Dense)        (None, 128)               32896     \n",
      "_________________________________________________________________\n",
      "output (Dense)               (None, 10)                1290      \n",
      "=================================================================\n",
      "Total params: 1,738,890\n",
      "Trainable params: 1,738,890\n",
      "Non-trainable params: 0\n",
      "_________________________________________________________________\n"
     ]
    }
   ],
   "source": [
    "\"\"\"Code Here\n",
    "建立你的神經網路\n",
    "\"\"\"\n",
    "def build_mlp(input_shape, output_units=10, num_neurons=[512, 256, 128]):\n",
    "    input_layer = keras.layers.Input(input_shape)\n",
    "    \n",
    "    for i, n_units in enumerate(num_neurons):\n",
    "        if i == 0:\n",
    "            x = keras.layers.Dense(units=n_units, activation=\"relu\", name=\"hidden_layer\"+str(i+1))(input_layer)\n",
    "        else:\n",
    "            x = keras.layers.Dense(units=n_units, activation=\"relu\", name=\"hidden_layer\"+str(i+1))(x)\n",
    "    \n",
    "    out = keras.layers.Dense(units=output_units, activation=\"softmax\", name=\"output\")(x)\n",
    "    \n",
    "    model = keras.models.Model(inputs=[input_layer], outputs=[out])\n",
    "    return model\n",
    "\n",
    "model = build_mlp(input_shape=x_train.shape[1:])\n",
    "model.summary()"
   ]
  },
  {
   "cell_type": "code",
   "execution_count": 19,
   "metadata": {},
   "outputs": [],
   "source": [
    "## 超參數設定\n",
    "LEARNING_RATE = 0.001\n",
    "EPOCHS = 100\n",
    "BATCH_SIZE = 256"
   ]
  },
  {
   "cell_type": "code",
   "execution_count": 20,
   "metadata": {},
   "outputs": [],
   "source": [
    "optimizer = keras.optimizers.Adam(lr=LEARNING_RATE)\n",
    "model.compile(loss=\"categorical_crossentropy\", metrics=[\"accuracy\"], optimizer=optimizer)"
   ]
  },
  {
   "cell_type": "code",
   "execution_count": 21,
   "metadata": {},
   "outputs": [
    {
     "name": "stdout",
     "output_type": "stream",
     "text": [
      "WARNING:tensorflow:From C:\\Users\\MCUT\\anaconda3\\envs\\class\\lib\\site-packages\\tensorflow\\python\\ops\\math_ops.py:3066: to_int32 (from tensorflow.python.ops.math_ops) is deprecated and will be removed in a future version.\n",
      "Instructions for updating:\n",
      "Use tf.cast instead.\n",
      "Train on 50000 samples, validate on 10000 samples\n",
      "Epoch 1/100\n",
      "50000/50000 [==============================] - 3s 67us/step - loss: 1.9367 - acc: 0.3005 - val_loss: 1.7801 - val_acc: 0.3604\n",
      "Epoch 2/100\n",
      "50000/50000 [==============================] - 2s 44us/step - loss: 1.7114 - acc: 0.3863 - val_loss: 1.6745 - val_acc: 0.3941\n",
      "Epoch 3/100\n",
      "50000/50000 [==============================] - 2s 44us/step - loss: 1.6246 - acc: 0.4201 - val_loss: 1.5897 - val_acc: 0.4343\n",
      "Epoch 4/100\n",
      "50000/50000 [==============================] - 2s 43us/step - loss: 1.5629 - acc: 0.4404 - val_loss: 1.6158 - val_acc: 0.4217\n",
      "Epoch 5/100\n",
      "50000/50000 [==============================] - 2s 43us/step - loss: 1.5045 - acc: 0.4633 - val_loss: 1.5069 - val_acc: 0.4570\n",
      "Epoch 6/100\n",
      "50000/50000 [==============================] - 2s 44us/step - loss: 1.4727 - acc: 0.4746 - val_loss: 1.5109 - val_acc: 0.4609\n",
      "Epoch 7/100\n",
      "50000/50000 [==============================] - 2s 44us/step - loss: 1.4348 - acc: 0.4894 - val_loss: 1.4839 - val_acc: 0.4622\n",
      "Epoch 8/100\n",
      "50000/50000 [==============================] - 2s 44us/step - loss: 1.3986 - acc: 0.5022 - val_loss: 1.4815 - val_acc: 0.4730\n",
      "Epoch 9/100\n",
      "50000/50000 [==============================] - 2s 43us/step - loss: 1.3798 - acc: 0.5072 - val_loss: 1.4818 - val_acc: 0.4719\n",
      "Epoch 10/100\n",
      "50000/50000 [==============================] - 2s 44us/step - loss: 1.3506 - acc: 0.5192 - val_loss: 1.4080 - val_acc: 0.5002\n",
      "Epoch 11/100\n",
      "50000/50000 [==============================] - 2s 45us/step - loss: 1.3328 - acc: 0.5260 - val_loss: 1.4590 - val_acc: 0.4827\n",
      "Epoch 12/100\n",
      "50000/50000 [==============================] - 2s 46us/step - loss: 1.2887 - acc: 0.5407 - val_loss: 1.3799 - val_acc: 0.5101\n",
      "Epoch 13/100\n",
      "50000/50000 [==============================] - 2s 43us/step - loss: 1.2716 - acc: 0.5472 - val_loss: 1.3767 - val_acc: 0.5189\n",
      "Epoch 14/100\n",
      "50000/50000 [==============================] - 2s 43us/step - loss: 1.2428 - acc: 0.5570 - val_loss: 1.3609 - val_acc: 0.5171\n",
      "Epoch 15/100\n",
      "50000/50000 [==============================] - 2s 42us/step - loss: 1.2292 - acc: 0.5615 - val_loss: 1.3783 - val_acc: 0.5146\n",
      "Epoch 16/100\n",
      "50000/50000 [==============================] - 2s 44us/step - loss: 1.2115 - acc: 0.5668 - val_loss: 1.3908 - val_acc: 0.5083\n",
      "Epoch 17/100\n",
      "50000/50000 [==============================] - 2s 43us/step - loss: 1.1862 - acc: 0.5764 - val_loss: 1.3900 - val_acc: 0.5141\n",
      "Epoch 18/100\n",
      "50000/50000 [==============================] - 2s 43us/step - loss: 1.1584 - acc: 0.5856 - val_loss: 1.3424 - val_acc: 0.5341\n",
      "Epoch 19/100\n",
      "50000/50000 [==============================] - 2s 43us/step - loss: 1.1481 - acc: 0.5898 - val_loss: 1.3622 - val_acc: 0.5225\n",
      "Epoch 20/100\n",
      "50000/50000 [==============================] - 2s 42us/step - loss: 1.1275 - acc: 0.5970 - val_loss: 1.4526 - val_acc: 0.5048\n",
      "Epoch 21/100\n",
      "50000/50000 [==============================] - 2s 43us/step - loss: 1.1154 - acc: 0.6018 - val_loss: 1.3731 - val_acc: 0.5218\n",
      "Epoch 22/100\n",
      "50000/50000 [==============================] - 2s 44us/step - loss: 1.0877 - acc: 0.6116 - val_loss: 1.3997 - val_acc: 0.5175\n",
      "Epoch 23/100\n",
      "50000/50000 [==============================] - 2s 43us/step - loss: 1.0739 - acc: 0.6155 - val_loss: 1.3887 - val_acc: 0.5165\n",
      "Epoch 24/100\n",
      "50000/50000 [==============================] - 2s 43us/step - loss: 1.0599 - acc: 0.6218 - val_loss: 1.3638 - val_acc: 0.5352\n",
      "Epoch 25/100\n",
      "50000/50000 [==============================] - 2s 43us/step - loss: 1.0364 - acc: 0.6296 - val_loss: 1.3607 - val_acc: 0.5342\n",
      "Epoch 26/100\n",
      "50000/50000 [==============================] - 2s 43us/step - loss: 1.0237 - acc: 0.6336 - val_loss: 1.3947 - val_acc: 0.5201\n",
      "Epoch 27/100\n",
      "50000/50000 [==============================] - 2s 43us/step - loss: 0.9949 - acc: 0.6432 - val_loss: 1.3973 - val_acc: 0.5197\n",
      "Epoch 28/100\n",
      "50000/50000 [==============================] - 2s 44us/step - loss: 0.9879 - acc: 0.6480 - val_loss: 1.3853 - val_acc: 0.5311\n",
      "Epoch 29/100\n",
      "50000/50000 [==============================] - 2s 44us/step - loss: 0.9623 - acc: 0.6565 - val_loss: 1.4634 - val_acc: 0.5152\n",
      "Epoch 30/100\n",
      "50000/50000 [==============================] - 2s 43us/step - loss: 0.9472 - acc: 0.6623 - val_loss: 1.4219 - val_acc: 0.5311\n",
      "Epoch 31/100\n",
      "50000/50000 [==============================] - 2s 44us/step - loss: 0.9305 - acc: 0.6677 - val_loss: 1.4533 - val_acc: 0.5262\n",
      "Epoch 32/100\n",
      "50000/50000 [==============================] - 2s 43us/step - loss: 0.9149 - acc: 0.6722 - val_loss: 1.4190 - val_acc: 0.5325\n",
      "Epoch 33/100\n",
      "50000/50000 [==============================] - 2s 44us/step - loss: 0.8935 - acc: 0.6791 - val_loss: 1.4462 - val_acc: 0.5287\n",
      "Epoch 34/100\n",
      "50000/50000 [==============================] - 2s 44us/step - loss: 0.8926 - acc: 0.6816 - val_loss: 1.4542 - val_acc: 0.5311\n",
      "Epoch 35/100\n",
      "50000/50000 [==============================] - 2s 45us/step - loss: 0.8712 - acc: 0.6900 - val_loss: 1.4582 - val_acc: 0.5336\n",
      "Epoch 36/100\n",
      "50000/50000 [==============================] - 2s 44us/step - loss: 0.8545 - acc: 0.6935 - val_loss: 1.4913 - val_acc: 0.5293\n",
      "Epoch 37/100\n",
      "50000/50000 [==============================] - 2s 44us/step - loss: 0.8399 - acc: 0.6990 - val_loss: 1.5097 - val_acc: 0.5218\n",
      "Epoch 38/100\n",
      "50000/50000 [==============================] - 2s 44us/step - loss: 0.8317 - acc: 0.7005 - val_loss: 1.5317 - val_acc: 0.5201\n",
      "Epoch 39/100\n",
      "50000/50000 [==============================] - 2s 44us/step - loss: 0.8021 - acc: 0.7142 - val_loss: 1.5213 - val_acc: 0.5303\n",
      "Epoch 40/100\n",
      "50000/50000 [==============================] - 2s 44us/step - loss: 0.7983 - acc: 0.7147 - val_loss: 1.5333 - val_acc: 0.5329\n",
      "Epoch 41/100\n",
      "50000/50000 [==============================] - 2s 46us/step - loss: 0.7802 - acc: 0.7204 - val_loss: 1.5495 - val_acc: 0.5328\n",
      "Epoch 42/100\n",
      "50000/50000 [==============================] - 2s 45us/step - loss: 0.7672 - acc: 0.7269 - val_loss: 1.6339 - val_acc: 0.5160\n",
      "Epoch 43/100\n",
      "50000/50000 [==============================] - 2s 45us/step - loss: 0.7472 - acc: 0.7333 - val_loss: 1.5906 - val_acc: 0.5316\n",
      "Epoch 44/100\n",
      "50000/50000 [==============================] - 2s 44us/step - loss: 0.7335 - acc: 0.7397 - val_loss: 1.6619 - val_acc: 0.5190\n",
      "Epoch 45/100\n",
      "50000/50000 [==============================] - 2s 44us/step - loss: 0.7289 - acc: 0.7406 - val_loss: 1.6671 - val_acc: 0.5221\n",
      "Epoch 46/100\n",
      "50000/50000 [==============================] - 2s 44us/step - loss: 0.7086 - acc: 0.7474 - val_loss: 1.6582 - val_acc: 0.5287\n",
      "Epoch 47/100\n",
      "50000/50000 [==============================] - 2s 43us/step - loss: 0.6982 - acc: 0.7510 - val_loss: 1.6623 - val_acc: 0.5254\n",
      "Epoch 48/100\n",
      "50000/50000 [==============================] - 2s 46us/step - loss: 0.6752 - acc: 0.7597 - val_loss: 1.6815 - val_acc: 0.5243\n",
      "Epoch 49/100\n",
      "50000/50000 [==============================] - 2s 48us/step - loss: 0.6867 - acc: 0.7532 - val_loss: 1.7368 - val_acc: 0.5138\n",
      "Epoch 50/100\n",
      "50000/50000 [==============================] - 2s 44us/step - loss: 0.6672 - acc: 0.7633 - val_loss: 1.7314 - val_acc: 0.5271\n",
      "Epoch 51/100\n",
      "50000/50000 [==============================] - 2s 44us/step - loss: 0.6500 - acc: 0.7686 - val_loss: 1.7434 - val_acc: 0.5238\n",
      "Epoch 52/100\n",
      "50000/50000 [==============================] - 2s 44us/step - loss: 0.6438 - acc: 0.7683 - val_loss: 1.7724 - val_acc: 0.5265\n",
      "Epoch 53/100\n",
      "50000/50000 [==============================] - 2s 45us/step - loss: 0.6271 - acc: 0.7759 - val_loss: 1.7595 - val_acc: 0.5296\n",
      "Epoch 54/100\n",
      "50000/50000 [==============================] - 2s 44us/step - loss: 0.6229 - acc: 0.7768 - val_loss: 1.8826 - val_acc: 0.5110\n",
      "Epoch 55/100\n",
      "50000/50000 [==============================] - 2s 43us/step - loss: 0.6162 - acc: 0.7791 - val_loss: 1.8598 - val_acc: 0.5284\n",
      "Epoch 56/100\n",
      "50000/50000 [==============================] - 2s 44us/step - loss: 0.5951 - acc: 0.7871 - val_loss: 1.8527 - val_acc: 0.5192\n",
      "Epoch 57/100\n",
      "50000/50000 [==============================] - 2s 43us/step - loss: 0.5973 - acc: 0.7862 - val_loss: 1.8422 - val_acc: 0.5149\n"
     ]
    },
    {
     "name": "stdout",
     "output_type": "stream",
     "text": [
      "Epoch 58/100\n",
      "50000/50000 [==============================] - 2s 43us/step - loss: 0.5864 - acc: 0.7890 - val_loss: 1.9351 - val_acc: 0.5157\n",
      "Epoch 59/100\n",
      "50000/50000 [==============================] - 2s 45us/step - loss: 0.5618 - acc: 0.8005 - val_loss: 1.9094 - val_acc: 0.5208\n",
      "Epoch 60/100\n",
      "50000/50000 [==============================] - 2s 42us/step - loss: 0.5637 - acc: 0.7972 - val_loss: 1.9480 - val_acc: 0.5219\n",
      "Epoch 61/100\n",
      "50000/50000 [==============================] - 2s 43us/step - loss: 0.5484 - acc: 0.8055 - val_loss: 1.9891 - val_acc: 0.5067\n",
      "Epoch 62/100\n",
      "50000/50000 [==============================] - 2s 45us/step - loss: 0.5335 - acc: 0.8094 - val_loss: 1.9852 - val_acc: 0.5201\n",
      "Epoch 63/100\n",
      "50000/50000 [==============================] - 2s 46us/step - loss: 0.5335 - acc: 0.8103 - val_loss: 2.0410 - val_acc: 0.5118\n",
      "Epoch 64/100\n",
      "50000/50000 [==============================] - 2s 45us/step - loss: 0.5230 - acc: 0.8141 - val_loss: 2.0433 - val_acc: 0.5188\n",
      "Epoch 65/100\n",
      "50000/50000 [==============================] - 2s 44us/step - loss: 0.5089 - acc: 0.8179 - val_loss: 2.1544 - val_acc: 0.5082\n",
      "Epoch 66/100\n",
      "50000/50000 [==============================] - 2s 44us/step - loss: 0.5174 - acc: 0.8140 - val_loss: 2.1117 - val_acc: 0.5136\n",
      "Epoch 67/100\n",
      "50000/50000 [==============================] - 2s 45us/step - loss: 0.5124 - acc: 0.8164 - val_loss: 2.1179 - val_acc: 0.5180\n",
      "Epoch 68/100\n",
      "50000/50000 [==============================] - 2s 44us/step - loss: 0.4895 - acc: 0.8237 - val_loss: 2.1799 - val_acc: 0.5124\n",
      "Epoch 69/100\n",
      "50000/50000 [==============================] - 2s 44us/step - loss: 0.4694 - acc: 0.8332 - val_loss: 2.1802 - val_acc: 0.5190\n",
      "Epoch 70/100\n",
      "50000/50000 [==============================] - 2s 45us/step - loss: 0.4756 - acc: 0.8301 - val_loss: 2.1544 - val_acc: 0.5183\n",
      "Epoch 71/100\n",
      "50000/50000 [==============================] - 2s 44us/step - loss: 0.4529 - acc: 0.8387 - val_loss: 2.2469 - val_acc: 0.5180\n",
      "Epoch 72/100\n",
      "50000/50000 [==============================] - 2s 44us/step - loss: 0.4465 - acc: 0.8391 - val_loss: 2.3003 - val_acc: 0.5105\n",
      "Epoch 73/100\n",
      "50000/50000 [==============================] - 2s 44us/step - loss: 0.4488 - acc: 0.8395 - val_loss: 2.3101 - val_acc: 0.5146\n",
      "Epoch 74/100\n",
      "50000/50000 [==============================] - 2s 44us/step - loss: 0.4308 - acc: 0.8452 - val_loss: 2.3521 - val_acc: 0.5059\n",
      "Epoch 75/100\n",
      "50000/50000 [==============================] - 2s 44us/step - loss: 0.4515 - acc: 0.8358 - val_loss: 2.2527 - val_acc: 0.5145\n",
      "Epoch 76/100\n",
      "50000/50000 [==============================] - 2s 44us/step - loss: 0.4161 - acc: 0.8506 - val_loss: 2.3319 - val_acc: 0.5156\n",
      "Epoch 77/100\n",
      "50000/50000 [==============================] - 2s 43us/step - loss: 0.4283 - acc: 0.8462 - val_loss: 2.3633 - val_acc: 0.5079\n",
      "Epoch 78/100\n",
      "50000/50000 [==============================] - 2s 43us/step - loss: 0.4234 - acc: 0.8469 - val_loss: 2.4698 - val_acc: 0.5033\n",
      "Epoch 79/100\n",
      "50000/50000 [==============================] - 2s 44us/step - loss: 0.4250 - acc: 0.8480 - val_loss: 2.4530 - val_acc: 0.5026\n",
      "Epoch 80/100\n",
      "50000/50000 [==============================] - 2s 43us/step - loss: 0.3951 - acc: 0.8590 - val_loss: 2.4633 - val_acc: 0.5106\n",
      "Epoch 81/100\n",
      "50000/50000 [==============================] - 2s 44us/step - loss: 0.3857 - acc: 0.8622 - val_loss: 2.4890 - val_acc: 0.5091\n",
      "Epoch 82/100\n",
      "50000/50000 [==============================] - 2s 43us/step - loss: 0.3915 - acc: 0.8590 - val_loss: 2.5778 - val_acc: 0.4966\n",
      "Epoch 83/100\n",
      "50000/50000 [==============================] - 2s 43us/step - loss: 0.4342 - acc: 0.8434 - val_loss: 2.5142 - val_acc: 0.5088\n",
      "Epoch 84/100\n",
      "50000/50000 [==============================] - 2s 45us/step - loss: 0.3752 - acc: 0.8655 - val_loss: 2.5916 - val_acc: 0.5084\n",
      "Epoch 85/100\n",
      "50000/50000 [==============================] - 2s 48us/step - loss: 0.3795 - acc: 0.8624 - val_loss: 2.6479 - val_acc: 0.5021\n",
      "Epoch 86/100\n",
      "50000/50000 [==============================] - 2s 46us/step - loss: 0.3626 - acc: 0.8701 - val_loss: 2.6316 - val_acc: 0.5070\n",
      "Epoch 87/100\n",
      "50000/50000 [==============================] - 2s 45us/step - loss: 0.3535 - acc: 0.8732 - val_loss: 2.6002 - val_acc: 0.5060\n",
      "Epoch 88/100\n",
      "50000/50000 [==============================] - 2s 44us/step - loss: 0.3580 - acc: 0.8727 - val_loss: 2.6337 - val_acc: 0.5098\n",
      "Epoch 89/100\n",
      "50000/50000 [==============================] - 2s 44us/step - loss: 0.3520 - acc: 0.8736 - val_loss: 2.7157 - val_acc: 0.5039\n",
      "Epoch 90/100\n",
      "50000/50000 [==============================] - 2s 46us/step - loss: 0.3485 - acc: 0.8747 - val_loss: 2.7127 - val_acc: 0.5041\n",
      "Epoch 91/100\n",
      "50000/50000 [==============================] - 2s 45us/step - loss: 0.3566 - acc: 0.8722 - val_loss: 2.7304 - val_acc: 0.5066\n",
      "Epoch 92/100\n",
      "50000/50000 [==============================] - 2s 44us/step - loss: 0.3394 - acc: 0.8780 - val_loss: 2.7562 - val_acc: 0.5000\n",
      "Epoch 93/100\n",
      "50000/50000 [==============================] - 2s 46us/step - loss: 0.3450 - acc: 0.8759 - val_loss: 2.7376 - val_acc: 0.5115\n",
      "Epoch 94/100\n",
      "50000/50000 [==============================] - 2s 44us/step - loss: 0.3159 - acc: 0.8851 - val_loss: 2.8052 - val_acc: 0.5109\n",
      "Epoch 95/100\n",
      "50000/50000 [==============================] - 2s 44us/step - loss: 0.3414 - acc: 0.8774 - val_loss: 2.8446 - val_acc: 0.5008\n",
      "Epoch 96/100\n",
      "50000/50000 [==============================] - 2s 46us/step - loss: 0.3209 - acc: 0.8838 - val_loss: 2.8994 - val_acc: 0.5033\n",
      "Epoch 97/100\n",
      "50000/50000 [==============================] - 2s 43us/step - loss: 0.3427 - acc: 0.8750 - val_loss: 2.9414 - val_acc: 0.4995\n",
      "Epoch 98/100\n",
      "50000/50000 [==============================] - 2s 45us/step - loss: 0.3161 - acc: 0.8852 - val_loss: 2.9109 - val_acc: 0.4948\n",
      "Epoch 99/100\n",
      "50000/50000 [==============================] - 2s 45us/step - loss: 0.3029 - acc: 0.8918 - val_loss: 2.9281 - val_acc: 0.5019\n",
      "Epoch 100/100\n",
      "50000/50000 [==============================] - 2s 44us/step - loss: 0.2993 - acc: 0.8920 - val_loss: 2.9646 - val_acc: 0.5096\n"
     ]
    },
    {
     "data": {
      "text/plain": [
       "<keras.callbacks.History at 0x1bd917825f8>"
      ]
     },
     "execution_count": 21,
     "metadata": {},
     "output_type": "execute_result"
    }
   ],
   "source": [
    "model.fit(x_train, y_train, \n",
    "          epochs=EPOCHS, \n",
    "          batch_size=BATCH_SIZE, \n",
    "          validation_data=(x_test, y_test), \n",
    "          shuffle=True)"
   ]
  },
  {
   "cell_type": "code",
   "execution_count": 22,
   "metadata": {},
   "outputs": [
    {
     "name": "stderr",
     "output_type": "stream",
     "text": [
      "Duplicate key in file 'C:\\\\Users\\\\MCUT\\\\anaconda3\\\\envs\\\\class\\\\lib\\\\site-packages\\\\matplotlib\\\\mpl-data\\\\matplotlibrc' line #250.\n"
     ]
    },
    {
     "data": {
      "image/png": "[encoded data removed]",
      "text/plain": [
       "<Figure size 432x288 with 1 Axes>"
      ]
     },
     "metadata": {
      "needs_background": "light"
     },
     "output_type": "display_data"
    },
    {
     "data": {
      "image/png": "[encoded data removed]",
      "text/plain": [
       "<Figure size 432x288 with 1 Axes>"
      ]
     },
     "metadata": {
      "needs_background": "light"
     },
     "output_type": "display_data"
    }
   ],
   "source": [
    "import matplotlib.pyplot as plt\n",
    "\n",
    "\n",
    "train_loss = model.history.history[\"loss\"]\n",
    "valid_loss = model.history.history[\"val_loss\"]\n",
    "\n",
    "train_acc = model.history.history[\"acc\"]\n",
    "valid_acc = model.history.history[\"val_acc\"]\n",
    "\n",
    "plt.plot(range(len(train_loss)), train_loss, label=\"train loss\")\n",
    "plt.plot(range(len(valid_loss)), valid_loss, label=\"valid loss\")\n",
    "plt.legend()\n",
    "plt.title(\"Loss\")\n",
    "plt.show()\n",
    "\n",
    "plt.plot(range(len(train_acc)), train_acc, label=\"train accuracy\")\n",
    "plt.plot(range(len(valid_acc)), valid_acc, label=\"valid accuracy\")\n",
    "plt.legend()\n",
    "plt.title(\"Accuracy\")\n",
    "plt.show()"
   ]
  },
  {
   "cell_type": "code",
   "execution_count": null,
   "metadata": {},
   "outputs": [],
   "source": []
  }
 ],
 "metadata": {
  "kernelspec": {
   "display_name": "Python 3",
   "language": "python",
   "name": "python3"
  },
  "language_info": {
   "codemirror_mode": {
    "name": "ipython",
    "version": 3
   },
   "file_extension": ".py",
   "mimetype": "text/x-python",
   "name": "python",
   "nbconvert_exporter": "python",
   "pygments_lexer": "ipython3",
   "version": "3.6.10"
  }
 },
 "nbformat": 4,
 "nbformat_minor": 2
}
