{
 "cells": [
  {
   "cell_type": "markdown",
   "metadata": {},
   "source": [
    "## Work\n",
    "1. 試改變 monitor \"Validation Accuracy\" 並比較結果\n",
    "2. 調整 earlystop 的等待次數至 10, 25 並比較結果"
   ]
  },
  {
   "cell_type": "code",
   "execution_count": 1,
   "metadata": {},
   "outputs": [
    {
     "name": "stderr",
     "output_type": "stream",
     "text": [
      "Using TensorFlow backend.\n",
      "C:\\Users\\MCUT\\anaconda3\\envs\\class\\lib\\site-packages\\tensorflow\\python\\framework\\dtypes.py:526: FutureWarning: Passing (type, 1) or '1type' as a synonym of type is deprecated; in a future version of numpy, it will be understood as (type, (1,)) / '(1,)type'.\n",
      "  _np_qint8 = np.dtype([(\"qint8\", np.int8, 1)])\n",
      "C:\\Users\\MCUT\\anaconda3\\envs\\class\\lib\\site-packages\\tensorflow\\python\\framework\\dtypes.py:527: FutureWarning: Passing (type, 1) or '1type' as a synonym of type is deprecated; in a future version of numpy, it will be understood as (type, (1,)) / '(1,)type'.\n",
      "  _np_quint8 = np.dtype([(\"quint8\", np.uint8, 1)])\n",
      "C:\\Users\\MCUT\\anaconda3\\envs\\class\\lib\\site-packages\\tensorflow\\python\\framework\\dtypes.py:528: FutureWarning: Passing (type, 1) or '1type' as a synonym of type is deprecated; in a future version of numpy, it will be understood as (type, (1,)) / '(1,)type'.\n",
      "  _np_qint16 = np.dtype([(\"qint16\", np.int16, 1)])\n",
      "C:\\Users\\MCUT\\anaconda3\\envs\\class\\lib\\site-packages\\tensorflow\\python\\framework\\dtypes.py:529: FutureWarning: Passing (type, 1) or '1type' as a synonym of type is deprecated; in a future version of numpy, it will be understood as (type, (1,)) / '(1,)type'.\n",
      "  _np_quint16 = np.dtype([(\"quint16\", np.uint16, 1)])\n",
      "C:\\Users\\MCUT\\anaconda3\\envs\\class\\lib\\site-packages\\tensorflow\\python\\framework\\dtypes.py:530: FutureWarning: Passing (type, 1) or '1type' as a synonym of type is deprecated; in a future version of numpy, it will be understood as (type, (1,)) / '(1,)type'.\n",
      "  _np_qint32 = np.dtype([(\"qint32\", np.int32, 1)])\n",
      "C:\\Users\\MCUT\\anaconda3\\envs\\class\\lib\\site-packages\\tensorflow\\python\\framework\\dtypes.py:535: FutureWarning: Passing (type, 1) or '1type' as a synonym of type is deprecated; in a future version of numpy, it will be understood as (type, (1,)) / '(1,)type'.\n",
      "  np_resource = np.dtype([(\"resource\", np.ubyte, 1)])\n",
      "Duplicate key in file 'C:\\\\Users\\\\MCUT\\\\anaconda3\\\\envs\\\\class\\\\lib\\\\site-packages\\\\matplotlib\\\\mpl-data\\\\matplotlibrc' line #250.\n"
     ]
    }
   ],
   "source": [
    "import os\n",
    "import keras\n",
    "import matplotlib.pyplot as plt\n",
    "%matplotlib inline\n",
    "\n",
    "\n",
    "# Disable GPU\n",
    "os.environ[\"CUDA_VISIBLE_DEVICES\"] = \"0\""
   ]
  },
  {
   "cell_type": "code",
   "execution_count": 2,
   "metadata": {},
   "outputs": [],
   "source": [
    "train, test = keras.datasets.cifar10.load_data()"
   ]
  },
  {
   "cell_type": "code",
   "execution_count": 3,
   "metadata": {},
   "outputs": [],
   "source": [
    "## 資料前處理\n",
    "def preproc_x(x, flatten=True):\n",
    "    x = x / 255.\n",
    "    if flatten:\n",
    "        x = x.reshape((len(x), -1))\n",
    "    return x\n",
    "\n",
    "def preproc_y(y, num_classes=10):\n",
    "    if y.shape[-1] == 1:\n",
    "        y = keras.utils.to_categorical(y, num_classes)\n",
    "    return y    "
   ]
  },
  {
   "cell_type": "code",
   "execution_count": 4,
   "metadata": {},
   "outputs": [],
   "source": [
    "x_train, y_train = train\n",
    "x_test, y_test = test\n",
    "\n",
    "# Preproc the inputs\n",
    "x_train = preproc_x(x_train)\n",
    "x_test = preproc_x(x_test)\n",
    "\n",
    "# Preprc the outputs\n",
    "y_train = preproc_y(y_train)\n",
    "y_test = preproc_y(y_test)"
   ]
  },
  {
   "cell_type": "code",
   "execution_count": 5,
   "metadata": {},
   "outputs": [],
   "source": [
    "from keras.layers import BatchNormalization\n",
    "\n",
    "def build_mlp(input_shape, output_units=10, num_neurons=[512, 256, 128]):\n",
    "    \"\"\"Code Here\n",
    "    建立你的神經網路\n",
    "    \"\"\"\n",
    "    input_layer = keras.layers.Input(input_shape)\n",
    "    \n",
    "    for i, n_units in enumerate(num_neurons):\n",
    "        if i == 0:\n",
    "            x = keras.layers.Dense(units=n_units, \n",
    "                                   activation=\"relu\", \n",
    "                                   name=\"hidden_layer\"+str(i+1))(input_layer)\n",
    "            x = BatchNormalization()(x)\n",
    "        else:\n",
    "            x = keras.layers.Dense(units=n_units, \n",
    "                                   activation=\"relu\", \n",
    "                                   name=\"hidden_layer\"+str(i+1))(x)\n",
    "            x = BatchNormalization()(x)\n",
    "    \n",
    "    out = keras.layers.Dense(units=output_units, activation=\"softmax\", name=\"output\")(x)\n",
    "    \n",
    "    model = keras.models.Model(inputs=[input_layer], outputs=[out])   \n",
    "    \n",
    "    return model"
   ]
  },
  {
   "cell_type": "code",
   "execution_count": 6,
   "metadata": {},
   "outputs": [],
   "source": [
    "\"\"\"Code Here\n",
    "設定超參數\n",
    "\"\"\"\n",
    "LEARNING_RATE = 1e-3\n",
    "EPOCHS = 50\n",
    "BATCH_SIZE = 1024\n",
    "MOMENTUM = 0.95"
   ]
  },
  {
   "cell_type": "code",
   "execution_count": 9,
   "metadata": {},
   "outputs": [
    {
     "name": "stdout",
     "output_type": "stream",
     "text": [
      "_________________________________________________________________\n",
      "Layer (type)                 Output Shape              Param #   \n",
      "=================================================================\n",
      "input_2 (InputLayer)         (None, 3072)              0         \n",
      "_________________________________________________________________\n",
      "hidden_layer1 (Dense)        (None, 512)               1573376   \n",
      "_________________________________________________________________\n",
      "batch_normalization_4 (Batch (None, 512)               2048      \n",
      "_________________________________________________________________\n",
      "hidden_layer2 (Dense)        (None, 256)               131328    \n",
      "_________________________________________________________________\n",
      "batch_normalization_5 (Batch (None, 256)               1024      \n",
      "_________________________________________________________________\n",
      "hidden_layer3 (Dense)        (None, 128)               32896     \n",
      "_________________________________________________________________\n",
      "batch_normalization_6 (Batch (None, 128)               512       \n",
      "_________________________________________________________________\n",
      "output (Dense)               (None, 10)                1290      \n",
      "=================================================================\n",
      "Total params: 1,742,474\n",
      "Trainable params: 1,740,682\n",
      "Non-trainable params: 1,792\n",
      "_________________________________________________________________\n",
      "Train on 50000 samples, validate on 10000 samples\n",
      "Epoch 1/50\n",
      "50000/50000 [==============================] - 2s 43us/step - loss: 2.1984 - acc: 0.2781 - val_loss: 2.0647 - val_acc: 0.3360\n",
      "Epoch 2/50\n",
      "50000/50000 [==============================] - 1s 29us/step - loss: 1.7324 - acc: 0.3992 - val_loss: 1.8321 - val_acc: 0.3712\n",
      "Epoch 3/50\n",
      "50000/50000 [==============================] - 1s 29us/step - loss: 1.6107 - acc: 0.4364 - val_loss: 1.6952 - val_acc: 0.4104\n",
      "Epoch 4/50\n",
      "50000/50000 [==============================] - 1s 29us/step - loss: 1.5394 - acc: 0.4634 - val_loss: 1.6541 - val_acc: 0.4173\n",
      "Epoch 5/50\n",
      "50000/50000 [==============================] - 1s 29us/step - loss: 1.4853 - acc: 0.4807 - val_loss: 1.5878 - val_acc: 0.4469\n",
      "Epoch 6/50\n",
      "50000/50000 [==============================] - 2s 31us/step - loss: 1.4387 - acc: 0.4984 - val_loss: 1.5717 - val_acc: 0.4437\n",
      "Epoch 7/50\n",
      "50000/50000 [==============================] - 1s 30us/step - loss: 1.4003 - acc: 0.5118 - val_loss: 1.5437 - val_acc: 0.4508\n",
      "Epoch 8/50\n",
      "50000/50000 [==============================] - 2s 30us/step - loss: 1.3651 - acc: 0.5249 - val_loss: 1.5324 - val_acc: 0.4608\n",
      "Epoch 9/50\n",
      "50000/50000 [==============================] - 1s 30us/step - loss: 1.3326 - acc: 0.5371 - val_loss: 1.5164 - val_acc: 0.4685\n",
      "Epoch 10/50\n",
      "50000/50000 [==============================] - 1s 29us/step - loss: 1.3040 - acc: 0.5473 - val_loss: 1.4957 - val_acc: 0.4721\n",
      "Epoch 11/50\n",
      "50000/50000 [==============================] - 1s 27us/step - loss: 1.2729 - acc: 0.5578 - val_loss: 1.4890 - val_acc: 0.4790\n",
      "Epoch 12/50\n",
      "50000/50000 [==============================] - 1s 29us/step - loss: 1.2466 - acc: 0.5692 - val_loss: 1.4908 - val_acc: 0.4748\n",
      "Epoch 13/50\n",
      "50000/50000 [==============================] - 1s 29us/step - loss: 1.2204 - acc: 0.5780 - val_loss: 1.4649 - val_acc: 0.4813\n",
      "Epoch 14/50\n",
      "50000/50000 [==============================] - 1s 30us/step - loss: 1.1973 - acc: 0.5860 - val_loss: 1.4663 - val_acc: 0.4817\n",
      "Epoch 15/50\n",
      "50000/50000 [==============================] - 1s 28us/step - loss: 1.1724 - acc: 0.5969 - val_loss: 1.4688 - val_acc: 0.4799\n",
      "Epoch 16/50\n",
      "50000/50000 [==============================] - 1s 29us/step - loss: 1.1485 - acc: 0.6058 - val_loss: 1.4605 - val_acc: 0.4860\n",
      "Epoch 17/50\n",
      "50000/50000 [==============================] - 2s 31us/step - loss: 1.1254 - acc: 0.6125 - val_loss: 1.4633 - val_acc: 0.4854\n",
      "Epoch 18/50\n",
      "50000/50000 [==============================] - 2s 32us/step - loss: 1.1021 - acc: 0.6232 - val_loss: 1.4519 - val_acc: 0.4940\n",
      "Epoch 19/50\n",
      "50000/50000 [==============================] - 2s 34us/step - loss: 1.0800 - acc: 0.6309 - val_loss: 1.4499 - val_acc: 0.4929\n",
      "Epoch 20/50\n",
      "50000/50000 [==============================] - 1s 29us/step - loss: 1.0593 - acc: 0.6385 - val_loss: 1.4518 - val_acc: 0.4948\n",
      "Epoch 21/50\n",
      "50000/50000 [==============================] - 1s 30us/step - loss: 1.0386 - acc: 0.6475 - val_loss: 1.4649 - val_acc: 0.4861\n",
      "Epoch 22/50\n",
      "50000/50000 [==============================] - 1s 29us/step - loss: 1.0171 - acc: 0.6554 - val_loss: 1.4545 - val_acc: 0.4907\n",
      "Epoch 23/50\n",
      "50000/50000 [==============================] - 1s 28us/step - loss: 0.9957 - acc: 0.6638 - val_loss: 1.4566 - val_acc: 0.4915\n",
      "Epoch 24/50\n",
      "50000/50000 [==============================] - 1s 29us/step - loss: 0.9731 - acc: 0.6736 - val_loss: 1.4514 - val_acc: 0.4996\n",
      "Epoch 25/50\n",
      "50000/50000 [==============================] - 1s 29us/step - loss: 0.9548 - acc: 0.6815 - val_loss: 1.4597 - val_acc: 0.4969\n",
      "Epoch 26/50\n",
      "50000/50000 [==============================] - 1s 29us/step - loss: 0.9342 - acc: 0.6883 - val_loss: 1.4625 - val_acc: 0.4938\n",
      "Epoch 27/50\n",
      "50000/50000 [==============================] - 1s 28us/step - loss: 0.9130 - acc: 0.6965 - val_loss: 1.4619 - val_acc: 0.4948\n",
      "Epoch 28/50\n",
      "50000/50000 [==============================] - 1s 28us/step - loss: 0.8930 - acc: 0.7057 - val_loss: 1.4746 - val_acc: 0.4907\n",
      "Epoch 29/50\n",
      "50000/50000 [==============================] - 1s 28us/step - loss: 0.8736 - acc: 0.7120 - val_loss: 1.4801 - val_acc: 0.4942\n",
      "Epoch 30/50\n",
      "50000/50000 [==============================] - 1s 29us/step - loss: 0.8554 - acc: 0.7185 - val_loss: 1.4751 - val_acc: 0.4985\n",
      "Epoch 31/50\n",
      "50000/50000 [==============================] - 1s 29us/step - loss: 0.8355 - acc: 0.7265 - val_loss: 1.5007 - val_acc: 0.4960\n",
      "Epoch 32/50\n",
      "50000/50000 [==============================] - 1s 29us/step - loss: 0.8172 - acc: 0.7337 - val_loss: 1.4926 - val_acc: 0.4906\n",
      "Epoch 33/50\n",
      "50000/50000 [==============================] - 1s 29us/step - loss: 0.7970 - acc: 0.7417 - val_loss: 1.5032 - val_acc: 0.4927\n",
      "Epoch 34/50\n",
      "50000/50000 [==============================] - 1s 29us/step - loss: 0.7778 - acc: 0.7506 - val_loss: 1.4976 - val_acc: 0.4969\n",
      "Epoch 35/50\n",
      "50000/50000 [==============================] - 1s 29us/step - loss: 0.7573 - acc: 0.7578 - val_loss: 1.5131 - val_acc: 0.4962\n",
      "Epoch 36/50\n",
      "50000/50000 [==============================] - 1s 29us/step - loss: 0.7379 - acc: 0.7653 - val_loss: 1.5266 - val_acc: 0.4930\n",
      "Epoch 37/50\n",
      "50000/50000 [==============================] - 1s 29us/step - loss: 0.7204 - acc: 0.7723 - val_loss: 1.5437 - val_acc: 0.4867\n",
      "Epoch 38/50\n",
      "50000/50000 [==============================] - 2s 31us/step - loss: 0.7008 - acc: 0.7806 - val_loss: 1.5520 - val_acc: 0.4831\n",
      "Epoch 39/50\n",
      "50000/50000 [==============================] - 1s 30us/step - loss: 0.6831 - acc: 0.7870 - val_loss: 1.5485 - val_acc: 0.4925\n",
      "Epoch 40/50\n",
      "50000/50000 [==============================] - 1s 29us/step - loss: 0.6649 - acc: 0.7935 - val_loss: 1.5544 - val_acc: 0.4908\n",
      "Epoch 41/50\n",
      "50000/50000 [==============================] - 2s 31us/step - loss: 0.6461 - acc: 0.8016 - val_loss: 1.5621 - val_acc: 0.4964\n",
      "Epoch 42/50\n",
      "50000/50000 [==============================] - 1s 29us/step - loss: 0.6291 - acc: 0.8084 - val_loss: 1.5785 - val_acc: 0.4893\n",
      "Epoch 43/50\n",
      "50000/50000 [==============================] - 2s 32us/step - loss: 0.6108 - acc: 0.8159 - val_loss: 1.6207 - val_acc: 0.4853\n",
      "Epoch 44/50\n",
      "50000/50000 [==============================] - 2s 33us/step - loss: 0.5919 - acc: 0.8227 - val_loss: 1.6088 - val_acc: 0.4865\n",
      "Epoch 45/50\n",
      "50000/50000 [==============================] - 2s 31us/step - loss: 0.5741 - acc: 0.8303 - val_loss: 1.6071 - val_acc: 0.4917\n",
      "Epoch 46/50\n",
      "50000/50000 [==============================] - 2s 31us/step - loss: 0.5560 - acc: 0.8378 - val_loss: 1.6433 - val_acc: 0.4851\n",
      "Epoch 47/50\n",
      "50000/50000 [==============================] - 2s 31us/step - loss: 0.5388 - acc: 0.8450 - val_loss: 1.6530 - val_acc: 0.4842\n",
      "Epoch 48/50\n",
      "50000/50000 [==============================] - 2s 30us/step - loss: 0.5218 - acc: 0.8512 - val_loss: 1.6681 - val_acc: 0.4841\n",
      "Epoch 49/50\n",
      "50000/50000 [==============================] - 1s 30us/step - loss: 0.5072 - acc: 0.8566 - val_loss: 1.6542 - val_acc: 0.4900\n"
     ]
    },
    {
     "name": "stdout",
     "output_type": "stream",
     "text": [
      "Epoch 00049: early stopping\n"
     ]
    }
   ],
   "source": [
    "# 載入 Callbacks\n",
    "\"\"\"Code Here\n",
    "設定 callbacks: Earlystop\n",
    "\"\"\"\n",
    "from keras.callbacks import EarlyStopping\n",
    "\n",
    "earlystop = EarlyStopping(monitor=\"val_acc\", \n",
    "                          patience=25, \n",
    "                          verbose=1\n",
    "                          )\n",
    "results = {}\n",
    "\"\"\"Code Here\n",
    "撰寫你的訓練流程並將結果用 dictionary 紀錄\n",
    "\"\"\"\n",
    "\n",
    "model = build_mlp(input_shape=x_train.shape[1:])\n",
    "model.summary()\n",
    "optimizer = keras.optimizers.SGD(lr=LEARNING_RATE, nesterov=True, momentum=MOMENTUM)\n",
    "model.compile(loss=\"categorical_crossentropy\", metrics=[\"accuracy\"], optimizer=optimizer)\n",
    "\n",
    "model.fit(x_train, y_train, \n",
    "          epochs=EPOCHS, \n",
    "          batch_size=BATCH_SIZE, \n",
    "          validation_data=(x_test, y_test), \n",
    "          shuffle=True,\n",
    "          callbacks=[earlystop]\n",
    "         )\n",
    "\n",
    "# Collect results\n",
    "train_loss = model.history.history[\"loss\"]\n",
    "valid_loss = model.history.history[\"val_loss\"]\n",
    "train_acc = model.history.history[\"acc\"]\n",
    "valid_acc = model.history.history[\"val_acc\"]\n"
   ]
  },
  {
   "cell_type": "code",
   "execution_count": 10,
   "metadata": {},
   "outputs": [
    {
     "data": {
      "image/png": "[encoded data removed]",
      "text/plain": [
       "<Figure size 432x288 with 1 Axes>"
      ]
     },
     "metadata": {
      "needs_background": "light"
     },
     "output_type": "display_data"
    },
    {
     "data": {
      "image/png": "[encoded data removed]",
      "text/plain": [
       "<Figure size 432x288 with 1 Axes>"
      ]
     },
     "metadata": {
      "needs_background": "light"
     },
     "output_type": "display_data"
    }
   ],
   "source": [
    "import matplotlib.pyplot as plt\n",
    "%matplotlib inline\n",
    "\"\"\"Code Here\n",
    "將結果繪出\n",
    "\"\"\"\n",
    "plt.plot(range(len(train_loss)), train_loss, label=\"train loss\")\n",
    "plt.plot(range(len(valid_loss)), valid_loss, label=\"valid loss\")\n",
    "plt.legend()\n",
    "plt.title(\"Loss\")\n",
    "plt.show()\n",
    "\n",
    "plt.plot(range(len(train_acc)), train_acc, label=\"train accuracy\")\n",
    "plt.plot(range(len(valid_acc)), valid_acc, label=\"valid accuracy\")\n",
    "plt.legend()\n",
    "plt.title(\"Accuracy\")\n",
    "plt.show()"
   ]
  },
  {
   "cell_type": "code",
   "execution_count": null,
   "metadata": {},
   "outputs": [],
   "source": []
  }
 ],
 "metadata": {
  "kernelspec": {
   "display_name": "Python 3",
   "language": "python",
   "name": "python3"
  },
  "language_info": {
   "codemirror_mode": {
    "name": "ipython",
    "version": 3
   },
   "file_extension": ".py",
   "mimetype": "text/x-python",
   "name": "python",
   "nbconvert_exporter": "python",
   "pygments_lexer": "ipython3",
   "version": "3.6.10"
  }
 },
 "nbformat": 4,
 "nbformat_minor": 2
}
