{
 "cells": [
  {
   "cell_type": "markdown",
   "metadata": {},
   "source": [
    "## Work\n",
    "### 請結合前面的知識與程式碼，比較不同的 regularization 的組合對訓練的結果與影響：如 dropout, regularizers, batch-normalization 等"
   ]
  },
  {
   "cell_type": "code",
   "execution_count": 1,
   "metadata": {},
   "outputs": [
    {
     "name": "stderr",
     "output_type": "stream",
     "text": [
      "Using TensorFlow backend.\n",
      "C:\\Users\\MCUT\\anaconda3\\envs\\class\\lib\\site-packages\\tensorflow\\python\\framework\\dtypes.py:526: FutureWarning: Passing (type, 1) or '1type' as a synonym of type is deprecated; in a future version of numpy, it will be understood as (type, (1,)) / '(1,)type'.\n",
      "  _np_qint8 = np.dtype([(\"qint8\", np.int8, 1)])\n",
      "C:\\Users\\MCUT\\anaconda3\\envs\\class\\lib\\site-packages\\tensorflow\\python\\framework\\dtypes.py:527: FutureWarning: Passing (type, 1) or '1type' as a synonym of type is deprecated; in a future version of numpy, it will be understood as (type, (1,)) / '(1,)type'.\n",
      "  _np_quint8 = np.dtype([(\"quint8\", np.uint8, 1)])\n",
      "C:\\Users\\MCUT\\anaconda3\\envs\\class\\lib\\site-packages\\tensorflow\\python\\framework\\dtypes.py:528: FutureWarning: Passing (type, 1) or '1type' as a synonym of type is deprecated; in a future version of numpy, it will be understood as (type, (1,)) / '(1,)type'.\n",
      "  _np_qint16 = np.dtype([(\"qint16\", np.int16, 1)])\n",
      "C:\\Users\\MCUT\\anaconda3\\envs\\class\\lib\\site-packages\\tensorflow\\python\\framework\\dtypes.py:529: FutureWarning: Passing (type, 1) or '1type' as a synonym of type is deprecated; in a future version of numpy, it will be understood as (type, (1,)) / '(1,)type'.\n",
      "  _np_quint16 = np.dtype([(\"quint16\", np.uint16, 1)])\n",
      "C:\\Users\\MCUT\\anaconda3\\envs\\class\\lib\\site-packages\\tensorflow\\python\\framework\\dtypes.py:530: FutureWarning: Passing (type, 1) or '1type' as a synonym of type is deprecated; in a future version of numpy, it will be understood as (type, (1,)) / '(1,)type'.\n",
      "  _np_qint32 = np.dtype([(\"qint32\", np.int32, 1)])\n",
      "C:\\Users\\MCUT\\anaconda3\\envs\\class\\lib\\site-packages\\tensorflow\\python\\framework\\dtypes.py:535: FutureWarning: Passing (type, 1) or '1type' as a synonym of type is deprecated; in a future version of numpy, it will be understood as (type, (1,)) / '(1,)type'.\n",
      "  np_resource = np.dtype([(\"resource\", np.ubyte, 1)])\n"
     ]
    }
   ],
   "source": [
    "import os\n",
    "import keras\n",
    "import itertools\n",
    "# Disable GPU\n",
    "os.environ[\"CUDA_VISIBLE_DEVICES\"] = \"0\""
   ]
  },
  {
   "cell_type": "code",
   "execution_count": 2,
   "metadata": {},
   "outputs": [],
   "source": [
    "train, test = keras.datasets.cifar10.load_data()"
   ]
  },
  {
   "cell_type": "code",
   "execution_count": 3,
   "metadata": {},
   "outputs": [],
   "source": [
    "## 資料前處理\n",
    "def preproc_x(x, flatten=True):\n",
    "    x = x / 255.\n",
    "    if flatten:\n",
    "        x = x.reshape((len(x), -1))\n",
    "    return x\n",
    "\n",
    "def preproc_y(y, num_classes=10):\n",
    "    if y.shape[-1] == 1:\n",
    "        y = keras.utils.to_categorical(y, num_classes)\n",
    "    return y    "
   ]
  },
  {
   "cell_type": "code",
   "execution_count": 4,
   "metadata": {},
   "outputs": [],
   "source": [
    "x_train, y_train = train\n",
    "x_test, y_test = test\n",
    "\n",
    "# Preproc the inputs\n",
    "x_train = preproc_x(x_train)\n",
    "x_test = preproc_x(x_test)\n",
    "\n",
    "# Preprc the outputs\n",
    "y_train = preproc_y(y_train)\n",
    "y_test = preproc_y(y_test)"
   ]
  },
  {
   "cell_type": "code",
   "execution_count": 5,
   "metadata": {},
   "outputs": [],
   "source": [
    "from keras.regularizers import l1_l2\n",
    "\n",
    "def build_mlp(input_shape, output_units=10, num_neurons=[512, 256, 128], l1_l2_ratio=1e-8, drp_ratio=0.2):\n",
    "    \"\"\"Code Here\n",
    "    建立你的神經網路\n",
    "    \"\"\"\n",
    "    input_layer = keras.layers.Input(input_shape)\n",
    "    x = keras.layers.BatchNormalization()(input_layer)\n",
    "    \n",
    "    for i, n_units in enumerate(num_neurons):\n",
    "        x = keras.layers.Dense(units=n_units, \n",
    "                               activation=\"relu\", \n",
    "                               name=\"hidden_layer\"+str(i+1),\n",
    "                               kernel_regularizer=l1_l2(l1_l2_ratio))(x)\n",
    "        x = keras.layers.BatchNormalization()(x)\n",
    "        x = keras.layers.Dropout(drp_ratio)(x)\n",
    "    \n",
    "    out = keras.layers.Dense(units=output_units, activation=\"softmax\", name=\"output\")(x)\n",
    "    \n",
    "    model = keras.models.Model(inputs=[input_layer], outputs=[out])\n",
    "    \n",
    "    return model"
   ]
  },
  {
   "cell_type": "code",
   "execution_count": 6,
   "metadata": {},
   "outputs": [],
   "source": [
    "\"\"\"Code Here\n",
    "設定超參數\n",
    "\"\"\"\n",
    "LEARNING_RATE = 1e-4\n",
    "EPOCHS = 50\n",
    "BATCH_SIZE = 256"
   ]
  },
  {
   "cell_type": "code",
   "execution_count": 7,
   "metadata": {
    "scrolled": true
   },
   "outputs": [
    {
     "name": "stdout",
     "output_type": "stream",
     "text": [
      "WARNING:tensorflow:From C:\\Users\\MCUT\\anaconda3\\envs\\class\\lib\\site-packages\\tensorflow\\python\\framework\\op_def_library.py:263: colocate_with (from tensorflow.python.framework.ops) is deprecated and will be removed in a future version.\n",
      "Instructions for updating:\n",
      "Colocations handled automatically by placer.\n",
      "WARNING:tensorflow:From C:\\Users\\MCUT\\anaconda3\\envs\\class\\lib\\site-packages\\keras\\backend\\tensorflow_backend.py:3445: calling dropout (from tensorflow.python.ops.nn_ops) with keep_prob is deprecated and will be removed in a future version.\n",
      "Instructions for updating:\n",
      "Please use `rate` instead of `keep_prob`. Rate should be set to `rate = 1 - keep_prob`.\n",
      "_________________________________________________________________\n",
      "Layer (type)                 Output Shape              Param #   \n",
      "=================================================================\n",
      "input_1 (InputLayer)         (None, 3072)              0         \n",
      "_________________________________________________________________\n",
      "batch_normalization_1 (Batch (None, 3072)              12288     \n",
      "_________________________________________________________________\n",
      "hidden_layer1 (Dense)        (None, 512)               1573376   \n",
      "_________________________________________________________________\n",
      "batch_normalization_2 (Batch (None, 512)               2048      \n",
      "_________________________________________________________________\n",
      "dropout_1 (Dropout)          (None, 512)               0         \n",
      "_________________________________________________________________\n",
      "hidden_layer2 (Dense)        (None, 256)               131328    \n",
      "_________________________________________________________________\n",
      "batch_normalization_3 (Batch (None, 256)               1024      \n",
      "_________________________________________________________________\n",
      "dropout_2 (Dropout)          (None, 256)               0         \n",
      "_________________________________________________________________\n",
      "hidden_layer3 (Dense)        (None, 128)               32896     \n",
      "_________________________________________________________________\n",
      "batch_normalization_4 (Batch (None, 128)               512       \n",
      "_________________________________________________________________\n",
      "dropout_3 (Dropout)          (None, 128)               0         \n",
      "_________________________________________________________________\n",
      "output (Dense)               (None, 10)                1290      \n",
      "=================================================================\n",
      "Total params: 1,754,762\n",
      "Trainable params: 1,746,826\n",
      "Non-trainable params: 7,936\n",
      "_________________________________________________________________\n",
      "WARNING:tensorflow:From C:\\Users\\MCUT\\anaconda3\\envs\\class\\lib\\site-packages\\tensorflow\\python\\ops\\math_ops.py:3066: to_int32 (from tensorflow.python.ops.math_ops) is deprecated and will be removed in a future version.\n",
      "Instructions for updating:\n",
      "Use tf.cast instead.\n",
      "Train on 50000 samples, validate on 10000 samples\n",
      "Epoch 1/50\n",
      "50000/50000 [==============================] - 5s 106us/step - loss: 15.0873 - acc: 0.2931 - val_loss: 13.5262 - val_acc: 0.4118\n",
      "Epoch 2/50\n",
      "50000/50000 [==============================] - 3s 62us/step - loss: 12.6375 - acc: 0.3706 - val_loss: 11.3486 - val_acc: 0.4501\n",
      "Epoch 3/50\n",
      "50000/50000 [==============================] - 3s 62us/step - loss: 10.5781 - acc: 0.4133 - val_loss: 9.4972 - val_acc: 0.4753\n",
      "Epoch 4/50\n",
      "50000/50000 [==============================] - 3s 62us/step - loss: 8.8693 - acc: 0.4407 - val_loss: 7.9932 - val_acc: 0.4851\n",
      "Epoch 5/50\n",
      "50000/50000 [==============================] - 3s 63us/step - loss: 7.4853 - acc: 0.4567 - val_loss: 6.7919 - val_acc: 0.4910\n",
      "Epoch 6/50\n",
      "50000/50000 [==============================] - 3s 63us/step - loss: 6.3752 - acc: 0.4711 - val_loss: 5.8134 - val_acc: 0.5032\n",
      "Epoch 7/50\n",
      "50000/50000 [==============================] - 3s 61us/step - loss: 5.4773 - acc: 0.4872 - val_loss: 5.0251 - val_acc: 0.5090\n",
      "Epoch 8/50\n",
      "50000/50000 [==============================] - 3s 62us/step - loss: 4.7691 - acc: 0.4963 - val_loss: 4.4089 - val_acc: 0.5166\n",
      "Epoch 9/50\n",
      "50000/50000 [==============================] - 3s 63us/step - loss: 4.1889 - acc: 0.5085 - val_loss: 3.8913 - val_acc: 0.5259\n",
      "Epoch 10/50\n",
      "50000/50000 [==============================] - 3s 62us/step - loss: 3.7218 - acc: 0.5173 - val_loss: 3.5083 - val_acc: 0.5209\n",
      "Epoch 11/50\n",
      "50000/50000 [==============================] - 3s 61us/step - loss: 3.3357 - acc: 0.5277 - val_loss: 3.1714 - val_acc: 0.5319\n",
      "Epoch 12/50\n",
      "50000/50000 [==============================] - 3s 63us/step - loss: 3.0319 - acc: 0.5327 - val_loss: 2.9077 - val_acc: 0.5336\n",
      "Epoch 13/50\n",
      "50000/50000 [==============================] - 3s 62us/step - loss: 2.7736 - acc: 0.5426 - val_loss: 2.6857 - val_acc: 0.5340\n",
      "Epoch 14/50\n",
      "50000/50000 [==============================] - 3s 63us/step - loss: 2.5659 - acc: 0.5475 - val_loss: 2.5063 - val_acc: 0.5392\n",
      "Epoch 15/50\n",
      "50000/50000 [==============================] - 3s 63us/step - loss: 2.3936 - acc: 0.5551 - val_loss: 2.3636 - val_acc: 0.5394\n",
      "Epoch 16/50\n",
      "50000/50000 [==============================] - 3s 62us/step - loss: 2.2441 - acc: 0.5609 - val_loss: 2.2318 - val_acc: 0.5442\n",
      "Epoch 17/50\n",
      "50000/50000 [==============================] - 3s 62us/step - loss: 2.1197 - acc: 0.5700 - val_loss: 2.1329 - val_acc: 0.5443\n",
      "Epoch 18/50\n",
      "50000/50000 [==============================] - 3s 62us/step - loss: 2.0161 - acc: 0.5728 - val_loss: 2.0506 - val_acc: 0.5471\n",
      "Epoch 19/50\n",
      "50000/50000 [==============================] - 3s 62us/step - loss: 1.9170 - acc: 0.5825 - val_loss: 1.9833 - val_acc: 0.5422\n",
      "Epoch 20/50\n",
      "50000/50000 [==============================] - 3s 62us/step - loss: 1.8396 - acc: 0.5854 - val_loss: 1.9109 - val_acc: 0.5499\n",
      "Epoch 21/50\n",
      "50000/50000 [==============================] - 3s 62us/step - loss: 1.7731 - acc: 0.5930 - val_loss: 1.8684 - val_acc: 0.5504\n",
      "Epoch 22/50\n",
      "50000/50000 [==============================] - 3s 61us/step - loss: 1.7142 - acc: 0.5967 - val_loss: 1.8173 - val_acc: 0.5496\n",
      "Epoch 23/50\n",
      "50000/50000 [==============================] - 3s 62us/step - loss: 1.6633 - acc: 0.6022 - val_loss: 1.7685 - val_acc: 0.5541\n",
      "Epoch 24/50\n",
      "50000/50000 [==============================] - 3s 63us/step - loss: 1.6121 - acc: 0.6067 - val_loss: 1.7455 - val_acc: 0.5491\n",
      "Epoch 25/50\n",
      "50000/50000 [==============================] - 3s 62us/step - loss: 1.5686 - acc: 0.6167 - val_loss: 1.7098 - val_acc: 0.5579\n",
      "Epoch 26/50\n",
      "50000/50000 [==============================] - 3s 63us/step - loss: 1.5333 - acc: 0.6143 - val_loss: 1.6832 - val_acc: 0.5614\n",
      "Epoch 27/50\n",
      "50000/50000 [==============================] - 3s 62us/step - loss: 1.5055 - acc: 0.6177 - val_loss: 1.6708 - val_acc: 0.5628\n",
      "Epoch 28/50\n",
      "50000/50000 [==============================] - 3s 62us/step - loss: 1.4685 - acc: 0.6248 - val_loss: 1.6504 - val_acc: 0.5604\n",
      "Epoch 29/50\n",
      "50000/50000 [==============================] - 3s 62us/step - loss: 1.4381 - acc: 0.6296 - val_loss: 1.6351 - val_acc: 0.5555\n",
      "Epoch 30/50\n",
      "50000/50000 [==============================] - 3s 62us/step - loss: 1.4086 - acc: 0.6370 - val_loss: 1.6212 - val_acc: 0.5616\n",
      "Epoch 31/50\n",
      "50000/50000 [==============================] - 3s 62us/step - loss: 1.3867 - acc: 0.6381 - val_loss: 1.6055 - val_acc: 0.5638\n",
      "Epoch 32/50\n",
      "50000/50000 [==============================] - 3s 61us/step - loss: 1.3682 - acc: 0.6437 - val_loss: 1.5922 - val_acc: 0.5656\n",
      "Epoch 33/50\n",
      "50000/50000 [==============================] - 3s 62us/step - loss: 1.3449 - acc: 0.6471 - val_loss: 1.6088 - val_acc: 0.5588\n",
      "Epoch 34/50\n",
      "50000/50000 [==============================] - 3s 62us/step - loss: 1.3265 - acc: 0.6506 - val_loss: 1.5939 - val_acc: 0.5640\n",
      "Epoch 35/50\n",
      "50000/50000 [==============================] - 3s 62us/step - loss: 1.3078 - acc: 0.6557 - val_loss: 1.5883 - val_acc: 0.5607\n",
      "Epoch 36/50\n",
      "50000/50000 [==============================] - 3s 63us/step - loss: 1.2988 - acc: 0.6553 - val_loss: 1.5777 - val_acc: 0.5617\n",
      "Epoch 37/50\n",
      "50000/50000 [==============================] - 3s 62us/step - loss: 1.2762 - acc: 0.6611 - val_loss: 1.5576 - val_acc: 0.5670\n",
      "Epoch 38/50\n",
      "50000/50000 [==============================] - 3s 63us/step - loss: 1.2698 - acc: 0.6631 - val_loss: 1.5594 - val_acc: 0.5703\n",
      "Epoch 39/50\n"
     ]
    },
    {
     "name": "stdout",
     "output_type": "stream",
     "text": [
      "50000/50000 [==============================] - 3s 63us/step - loss: 1.2545 - acc: 0.6678 - val_loss: 1.5906 - val_acc: 0.5612\n",
      "Epoch 40/50\n",
      "50000/50000 [==============================] - 3s 62us/step - loss: 1.2398 - acc: 0.6704 - val_loss: 1.5832 - val_acc: 0.5650\n",
      "Epoch 41/50\n",
      "50000/50000 [==============================] - 3s 62us/step - loss: 1.2241 - acc: 0.6744 - val_loss: 1.5793 - val_acc: 0.5666\n",
      "Epoch 42/50\n",
      "50000/50000 [==============================] - 3s 62us/step - loss: 1.2179 - acc: 0.6779 - val_loss: 1.5623 - val_acc: 0.5725\n",
      "Epoch 43/50\n",
      "50000/50000 [==============================] - 3s 62us/step - loss: 1.2086 - acc: 0.6823 - val_loss: 1.5518 - val_acc: 0.5742\n",
      "Epoch 44/50\n",
      "50000/50000 [==============================] - 3s 62us/step - loss: 1.1971 - acc: 0.6831 - val_loss: 1.5828 - val_acc: 0.5679\n",
      "Epoch 45/50\n",
      "50000/50000 [==============================] - 3s 62us/step - loss: 1.1892 - acc: 0.6866 - val_loss: 1.5582 - val_acc: 0.5722\n",
      "Epoch 46/50\n",
      "50000/50000 [==============================] - 3s 62us/step - loss: 1.1704 - acc: 0.6920 - val_loss: 1.5648 - val_acc: 0.5744\n",
      "Epoch 47/50\n",
      "50000/50000 [==============================] - 3s 63us/step - loss: 1.1716 - acc: 0.6919 - val_loss: 1.5863 - val_acc: 0.5631\n",
      "Epoch 48/50\n",
      "50000/50000 [==============================] - 3s 63us/step - loss: 1.1602 - acc: 0.6948 - val_loss: 1.5840 - val_acc: 0.5662\n",
      "Epoch 49/50\n",
      "50000/50000 [==============================] - 3s 62us/step - loss: 1.1497 - acc: 0.6997 - val_loss: 1.5732 - val_acc: 0.5717\n",
      "Epoch 50/50\n",
      "50000/50000 [==============================] - 3s 62us/step - loss: 1.1405 - acc: 0.7014 - val_loss: 1.5711 - val_acc: 0.5745\n"
     ]
    }
   ],
   "source": [
    "results = {}\n",
    "\"\"\"Code Here\n",
    "撰寫你的訓練流程並將結果用 dictionary 紀錄\n",
    "\"\"\"\n",
    "keras.backend.clear_session() # 把舊的 Graph 清掉\n",
    "\n",
    "model = build_mlp(input_shape=x_train.shape[1:])\n",
    "model.summary()\n",
    "optimizer = keras.optimizers.Adam(lr=LEARNING_RATE)\n",
    "model.compile(loss=\"categorical_crossentropy\", metrics=[\"accuracy\"], optimizer=optimizer)\n",
    "\n",
    "model.fit(x_train, y_train, \n",
    "          epochs=EPOCHS, \n",
    "          batch_size=BATCH_SIZE, \n",
    "          validation_data=(x_test, y_test), \n",
    "          shuffle=True)\n",
    "\n",
    "# Collect results\n",
    "train_loss = model.history.history[\"loss\"]\n",
    "valid_loss = model.history.history[\"val_loss\"]\n",
    "train_acc = model.history.history[\"acc\"]\n",
    "valid_acc = model.history.history[\"val_acc\"]\n"
   ]
  },
  {
   "cell_type": "code",
   "execution_count": 8,
   "metadata": {},
   "outputs": [
    {
     "name": "stderr",
     "output_type": "stream",
     "text": [
      "Duplicate key in file 'C:\\\\Users\\\\MCUT\\\\anaconda3\\\\envs\\\\class\\\\lib\\\\site-packages\\\\matplotlib\\\\mpl-data\\\\matplotlibrc' line #250.\n"
     ]
    },
    {
     "data": {
      "image/png": "[encoded data removed]",
      "text/plain": [
       "<Figure size 432x288 with 1 Axes>"
      ]
     },
     "metadata": {
      "needs_background": "light"
     },
     "output_type": "display_data"
    },
    {
     "data": {
      "text/plain": [
       "<function matplotlib.pyplot.show(*args, **kw)>"
      ]
     },
     "execution_count": 8,
     "metadata": {},
     "output_type": "execute_result"
    },
    {
     "data": {
      "image/png": "[encoded data removed]",
      "text/plain": [
       "<Figure size 432x288 with 1 Axes>"
      ]
     },
     "metadata": {
      "needs_background": "light"
     },
     "output_type": "display_data"
    }
   ],
   "source": [
    "import matplotlib.pyplot as plt\n",
    "%matplotlib inline\n",
    "\"\"\"Code Here\n",
    "將結果繪出\n",
    "\"\"\"\n",
    "\n",
    "plt.plot(range(len(train_loss)), train_loss, label=\"train loss\")\n",
    "plt.plot(range(len(valid_loss)), valid_loss, label=\"valid loss\")\n",
    "plt.legend()\n",
    "plt.title(\"Loss\")\n",
    "plt.show()\n",
    "\n",
    "plt.plot(range(len(train_acc)), train_acc, label=\"train accuracy\")\n",
    "plt.plot(range(len(valid_acc)), valid_acc, label=\"valid accuracy\")\n",
    "plt.legend()\n",
    "plt.title(\"Accuracy\")\n",
    "plt.show"
   ]
  },
  {
   "cell_type": "code",
   "execution_count": null,
   "metadata": {},
   "outputs": [],
   "source": []
  }
 ],
 "metadata": {
  "kernelspec": {
   "display_name": "Python 3",
   "language": "python",
   "name": "python3"
  },
  "language_info": {
   "codemirror_mode": {
    "name": "ipython",
    "version": 3
   },
   "file_extension": ".py",
   "mimetype": "text/x-python",
   "name": "python",
   "nbconvert_exporter": "python",
   "pygments_lexer": "ipython3",
   "version": "3.6.10"
  }
 },
 "nbformat": 4,
 "nbformat_minor": 2
}
